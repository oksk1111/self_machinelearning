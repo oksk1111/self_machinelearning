{
  "nbformat": 4,
  "nbformat_minor": 0,
  "metadata": {
    "colab": {
      "name": "selfML_ch01_지도학습_Classification.ipynb",
      "provenance": [],
      "collapsed_sections": [],
      "authorship_tag": "ABX9TyNAqdVKnLCeeu+TEUWK6xYP",
      "include_colab_link": true
    },
    "kernelspec": {
      "name": "python3",
      "display_name": "Python 3"
    },
    "language_info": {
      "name": "python"
    }
  },
  "cells": [
    {
      "cell_type": "markdown",
      "metadata": {
        "id": "view-in-github",
        "colab_type": "text"
      },
      "source": [
        "<a href=\"https://colab.research.google.com/github/oksk1111/self_machinelearning/blob/main/selfML_ch01_%EC%A7%80%EB%8F%84%ED%95%99%EC%8A%B5_Classification.ipynb\" target=\"_parent\"><img src=\"https://colab.research.google.com/assets/colab-badge.svg\" alt=\"Open In Colab\"/></a>"
      ]
    },
    {
      "cell_type": "markdown",
      "source": [
        "# 지도 학습 알고리즘\n",
        "1. 분류(Classification)\n",
        "  * 샘플을 여러개의 종류(=클래스) 중 하나로 분류하는 문제\n",
        "  * binary classification: 2개중 1개 선택\n",
        "2. 회귀(Regression)\n",
        "  * 임의의 어떤 값을 예측하는 문제\n",
        "  * 예: 경제 성장률 예측, 배달 도착시간 예측, 농어의 무게 예측\n",
        "\n",
        "***\n",
        "## 머신러닝 문제풀이 방식\n",
        "1. data 준비, 문제/데이터 분포 파악 -> 알고리즘 선정\n",
        "2. 학습 + 평가 (train_data, valid_data)\n",
        "3. 예측\n",
        "4. 검증 (test_data)"
      ],
      "metadata": {
        "id": "UkZVVRVhZaIp"
      }
    },
    {
      "cell_type": "markdown",
      "source": [
        "### 생선 분류 문제\n",
        "> 데이터셋: https://www.kaggle.com/aungpyaeap/fish-market\n",
        "\n",
        "**요구사항**: 생선 이름을 자동으로 알려주는 머신러닝을 만들자\n"
      ],
      "metadata": {
        "id": "RIBWyh7UYLBQ"
      }
    },
    {
      "cell_type": "code",
      "metadata": {
        "id": "3Jz0hfEYduNd"
      },
      "source": [
        "# 문제: 생선 분류 문제; 생선의 길이와 무게로 어떤 생선인지 맞춰라\n",
        "\n",
        "# 1. data 준비\n",
        "\n",
        "## feature 1 = length (x축)\n",
        "## feature 2 = weight (y축)\n",
        "## target = 0 or 1 (도미(bream) = 1, 빙어(smelt) = 0)\n",
        "\n",
        "## 전체 bream 갯수 = 35\n",
        "## 전체 smelt 갯수 = 14\n",
        "\n",
        "## data 유형1: 종류가 나뉘어 있는 데이터들\n",
        "bream_length = [25.4, 26.3, 26.5, 29.0, 29.0, 29.7, 29.7, 30.0, 30.0, 30.7, 31.0, 31.0, \n",
        "                31.5, 32.0, 32.0, 32.0, 33.0, 33.0, 33.5, 33.5, 34.0, 34.0, 34.5, 35.0, \n",
        "                35.0, 35.0, 35.0, 36.0, 36.0, 37.0, 38.5, 38.5, 39.5, 41.0, 41.0]\n",
        "bream_weight = [242.0, 290.0, 340.0, 363.0, 430.0, 450.0, 500.0, 390.0, 450.0, 500.0, 475.0, 500.0, \n",
        "                500.0, 340.0, 600.0, 600.0, 700.0, 700.0, 610.0, 650.0, 575.0, 685.0, 620.0, 680.0, \n",
        "                700.0, 725.0, 720.0, 714.0, 850.0, 1000.0, 920.0, 955.0, 925.0, 975.0, 950.0]\n",
        "\n",
        "smelt_length = [9.8, 10.5, 10.6, 11.0, 11.2, 11.3, 11.8, 11.8, 12.0, 12.2, 12.4, 13.0, 14.3, 15.0]\n",
        "smelt_weight = [6.7, 7.5, 7.0, 9.7, 9.8, 8.7, 10.0, 9.9, 9.8, 12.2, 13.4, 12.2, 19.7, 19.9]"
      ],
      "execution_count": null,
      "outputs": []
    },
    {
      "cell_type": "code",
      "metadata": {
        "colab": {
          "base_uri": "https://localhost:8080/",
          "height": 279
        },
        "id": "CpWnnK-LfBcA",
        "outputId": "4b026875-e950-4841-ed55-d4cce173661a"
      },
      "source": [
        "# 데이터 분포도를 먼저 살펴보자\n",
        "import matplotlib.pyplot as plt\n",
        "plt.scatter(bream_length, bream_weight)   # (x, y); 두개의 feature 를 사용하여 분포 파악; np array, 파이썬 list 모두 가능 (np array 가 출력시 파이썬 list 로 변환됨)\n",
        "plt.scatter(smelt_length, smelt_weight)\n",
        "plt.xlabel('length')\n",
        "plt.ylabel('weight')\n",
        "plt.show()\n",
        "\n",
        "#- Scatter 그래프가 Linear(선형) 하게 노출되었다고 함 (데이터분포가 일직선에 가까운 형태)"
      ],
      "execution_count": null,
      "outputs": [
        {
          "output_type": "display_data",
          "data": {
            "image/png": "[encoded data removed]",
            "text/plain": [
              "<Figure size 432x288 with 1 Axes>"
            ]
          },
          "metadata": {
            "tags": [],
            "needs_background": "light"
          }
        }
      ]
    },
    {
      "cell_type": "markdown",
      "metadata": {
        "id": "WGTHbxojedbT"
      },
      "source": [
        "## KNeighborsClassifier (k-최근접 이웃 분류)\n",
        "방식: 찾고자 하는 데이터의 가장 가까운 직선거리에 어떤 데이터가 있는지 살피는방식\n",
        "\n",
        "단점: 데이터가 아주 많은 경우 직선거리 계산에 메모리와 시간이 많이 필요함 (모든 데이터의 직선 거리 계산)\n",
        "\n",
        "***\n",
        "\n",
        "문제풀이 고려사항\n",
        "1. 거리기반 알고리즘 사용\n",
        "2. #1 사용시 feature가 여러개일 때 모든 feature 의 범위를 일치시키기 위해 전처리 작업으로 표준화 진행\n",
        "* 표준화: 데이터의 스케일(범위)를 한정화 함\n",
        "* 분류에서 표준화를 위한 표준점수 계산을 위해 표준편차 이용함\n",
        " * 표준점수 = (원본데이터 - 평균) / 표준편차\n",
        "\n",
        "***\n",
        "\n",
        "#### scikit-learn 패키지에서 훈련시 fit() 를 사용할 때,\n",
        "* train_data 인 features는 다음 형태의 2차원 리스트\n",
        "\n",
        "```\n",
        "[[aa1, bb1, ...],\n",
        "\n",
        " [aa2, bb2, ...],\n",
        "\n",
        " [aa3, bb3, ...],\n",
        "\n",
        " ...\n",
        "\n",
        " [aaN, bbN, ...]]\n",
        "\n",
        "```\n",
        "\n",
        "* target_data 인 정답은 각 train_data 의 정답이고, 1차원 리스트\n",
        "\n",
        "```\n",
        "[1, 1, 0, ..., #]\n",
        "```\n",
        "\n",
        "#### scikit-learn 패키지에서 모델의 성능평가를 위해 score() 를 사용할 때,\n",
        "* 0~1 중 1에 가까울수록 정확도 높은 모델\n",
        "* (정확히 맞힌 개수) / (전체 데이터 개수)"
      ]
    },
    {
      "cell_type": "code",
      "metadata": {
        "colab": {
          "base_uri": "https://localhost:8080/"
        },
        "id": "4jP4Inpy05Zz",
        "outputId": "c585a8e4-9b5d-41af-e133-c7d45b4b4f50"
      },
      "source": [
        "#** 중요하지 않은 코드 **\n",
        "#\n",
        "# 여러데이터 중에서 분류하는 문제이기에 위 데이터가 개별일지라도 합쳐져 있다고 가정한다.\n",
        "# 즉, 아래 데이터 합치는 부분은 평상시에 쓰진 않으나 테스트를 위해 참고만 한다.\n",
        "\n",
        "length = bream_length + smelt_length\n",
        "weight = bream_weight + smelt_weight\n",
        "\n",
        "fish_data = [[l, w] for l, w in zip(length, weight)]    # zip(list1, list2, ...) - 나열된 리스트에서 데이터를 쌍으로 뽑아주는 함수\n",
        "print(fish_data)\n",
        "\n",
        "fish_target = [1] * 35 + [0] * 14   # 정답지; 1 = 도미, 0 = 빙어\n",
        "print(fish_target)"
      ],
      "execution_count": null,
      "outputs": [
        {
          "output_type": "stream",
          "text": [
            "[[25.4, 242.0], [26.3, 290.0], [26.5, 340.0], [29.0, 363.0], [29.0, 430.0], [29.7, 450.0], [29.7, 500.0], [30.0, 390.0], [30.0, 450.0], [30.7, 500.0], [31.0, 475.0], [31.0, 500.0], [31.5, 500.0], [32.0, 340.0], [32.0, 600.0], [32.0, 600.0], [33.0, 700.0], [33.0, 700.0], [33.5, 610.0], [33.5, 650.0], [34.0, 575.0], [34.0, 685.0], [34.5, 620.0], [35.0, 680.0], [35.0, 700.0], [35.0, 725.0], [35.0, 720.0], [36.0, 714.0], [36.0, 850.0], [37.0, 1000.0], [38.5, 920.0], [38.5, 955.0], [39.5, 925.0], [41.0, 975.0], [41.0, 950.0], [9.8, 6.7], [10.5, 7.5], [10.6, 7.0], [11.0, 9.7], [11.2, 9.8], [11.3, 8.7], [11.8, 10.0], [11.8, 9.9], [12.0, 9.8], [12.2, 12.2], [12.4, 13.4], [13.0, 12.2], [14.3, 19.7], [15.0, 19.9]]\n",
            "[1, 1, 1, 1, 1, 1, 1, 1, 1, 1, 1, 1, 1, 1, 1, 1, 1, 1, 1, 1, 1, 1, 1, 1, 1, 1, 1, 1, 1, 1, 1, 1, 1, 1, 1, 0, 0, 0, 0, 0, 0, 0, 0, 0, 0, 0, 0, 0, 0]\n"
          ],
          "name": "stdout"
        }
      ]
    },
    {
      "cell_type": "code",
      "metadata": {
        "colab": {
          "base_uri": "https://localhost:8080/"
        },
        "id": "DauCOgrf2Upf",
        "outputId": "17aef8a5-303d-40a0-ee4b-36a3babf9a50"
      },
      "source": [
        "# 2. 학습 + 평가\n",
        "\n",
        "## 학습: fit() = Training; (Features, Target), ([[]], []) <- 이 형태로 써야함 (2차원 리스트, 1차원 리스트)\n",
        "## 평가: score() = 모델 평가; 0~1 중 1에 가까울수록 정확도 높은 모델; (정확히 맞힌 개수) / (전체 데이터 개수)\n",
        "\n",
        "from sklearn.neighbors import KNeighborsClassifier\n",
        "kn = KNeighborsClassifier()\n",
        "kn.fit(fish_data, fish_target)    \n",
        "kn.score(fish_data, fish_target)    # 학습한 데이터를 정답평가에 쓰면 당연히 1.0 값이 나온다; 그래서 평가용 test-set가 별도로 필요하다\n",
        "#- Classifier 의 score = 테스트 세트에 있는 샘플을 정확하게 분류한 개수의 비율\n",
        "\n",
        "# fit() 결과 요소 - 모든 항목의 거리\n",
        "# print(kn._fit_X)\n",
        "# print(kn._y)\n",
        "\n",
        "# KNeighborsClassifier() 알고리즘에서 가까운 거리의 참고할 표본 지정이 가능하다. 기본값은 5. 값 = n_neighbors\n",
        "# 수정방법: kn = KNeighborsClassifier(n_neighbors=49);  kn.n_neighbors = 49"
      ],
      "execution_count": null,
      "outputs": [
        {
          "output_type": "execute_result",
          "data": {
            "text/plain": [
              "1.0"
            ]
          },
          "metadata": {
            "tags": []
          },
          "execution_count": 12
        }
      ]
    },
    {
      "cell_type": "code",
      "metadata": {
        "colab": {
          "base_uri": "https://localhost:8080/"
        },
        "id": "bk_k20GL4yCx",
        "outputId": "cd651477-dd02-42ee-f643-2a921e0d8053"
      },
      "source": [
        "# 3. 예측\n",
        "## predict([[]])\n",
        "\n",
        "kn.predict([[30, 600]])   # predict() = 데이터의 정답 예측; ([[]]) <- 이 형태로 써야함 (2차원 리스트)"
      ],
      "execution_count": null,
      "outputs": [
        {
          "output_type": "execute_result",
          "data": {
            "text/plain": [
              "array([1])"
            ]
          },
          "metadata": {
            "tags": []
          },
          "execution_count": 13
        }
      ]
    },
    {
      "cell_type": "markdown",
      "metadata": {
        "id": "GhdHgbPw58zl"
      },
      "source": [
        "***\n",
        "\n",
        "위 데이터는 훈련데이터와 평가데이터를 같은 값을 써서 운영방식만 살펴보았다.\n",
        "\n",
        "다음으로 실제 데이터를 예로 들어 Train-set, Test-set 을 나눠 진행한다.\n"
      ]
    },
    {
      "cell_type": "markdown",
      "source": [
        "## 훈련데이터, 테스트 데이터 분리\n",
        "\n",
        "* 올바른 훈련데이터를 위해 샘플링편향(Sampling bias)을 없애기 위해 데이터를 고루 분포해야 함"
      ],
      "metadata": {
        "id": "NjtoQ_txQIZp"
      }
    },
    {
      "cell_type": "code",
      "source": [
        "# data 준비\n",
        "fish_length = [25.4, 26.3, 26.5, 29.0, 29.0, 29.7, 29.7, 30.0, 30.0, 30.7, 31.0, 31.0, \n",
        "               31.5, 32.0, 32.0, 32.0, 33.0, 33.0, 33.5, 33.5, 34.0, 34.0, 34.5, 35.0, \n",
        "               35.0, 35.0, 35.0, 36.0, 36.0, 37.0, 38.5, 38.5, 39.5, 41.0, 41.0,\n",
        "               9.8, 10.5, 10.6, 11.0, 11.2, 11.3, 11.8, 11.8, 12.0, 12.2, 12.4, 13.0, 14.3, 15.0]\n",
        "\n",
        "fish_weight = [242.0, 290.0, 340.0, 363.0, 430.0, 450.0, 500.0, 390.0, 450.0, 500.0, 475.0, 500.0, \n",
        "               500.0, 340.0, 600.0, 600.0, 700.0, 700.0, 610.0, 650.0, 575.0, 685.0, 620.0, 680.0, \n",
        "               700.0, 725.0, 720.0, 714.0, 850.0, 1000.0, 920.0, 955.0, 925.0, 975.0, 950.0,\n",
        "               6.7, 7.5, 7.0, 9.7, 9.8, 8.7, 10.0, 9.9, 9.8, 12.2, 13.4, 12.2, 19.7, 19.9]\n",
        "\n",
        "fish_data = [[l, w] for l, w in zip(fish_length, fish_weight)]\n",
        "fish_target = [1]*35 + [0]*14"
      ],
      "metadata": {
        "id": "dOouFYPeQHKX"
      },
      "execution_count": null,
      "outputs": []
    },
    {
      "cell_type": "code",
      "source": [
        "from sklearn.neighbors import KNeighborsClassifier\n",
        "kn = KNeighborsClassifier()\n",
        "\n",
        "# 훈련 세트로, 입력값 중 0~34 까지 사용\n",
        "train_input = fish_data[:35]\n",
        "# 훈련 세트로, 타깃 중 0~34 까지 사용\n",
        "train_target = fish_target[:35]\n",
        "\n",
        "# 테스트 세트로, 입력값 중 35~마지막 까지 사용\n",
        "test_input = fish_data[35:]\n",
        "# 테스트 세트로, 타깃 중 35~마지막 까지 사용\n",
        "test_target = fish_target[35:]\n",
        "\n",
        "kn = kn.fit(train_input, train_target)\n",
        "kn.score(test_input, test_target)"
      ],
      "metadata": {
        "colab": {
          "base_uri": "https://localhost:8080/"
        },
        "id": "b4pRgbOBQO3j",
        "outputId": "d669de67-5fab-4efb-c287-0bc806d70399"
      },
      "execution_count": null,
      "outputs": [
        {
          "output_type": "execute_result",
          "data": {
            "text/plain": [
              "0.0"
            ]
          },
          "metadata": {},
          "execution_count": 3
        }
      ]
    },
    {
      "cell_type": "code",
      "source": [
        "import numpy as np\n",
        "\n",
        "# np 로 array 저장 이유: 배열 형태의 데이터에 기타 수식을 적용하기 위해\n",
        "input_arr = np.array(fish_data)\n",
        "target_arr = np.array(fish_target)\n",
        "\n",
        "print(fish_data)\n",
        "print(input_arr)\n",
        "print(input_arr.shape)"
      ],
      "metadata": {
        "colab": {
          "base_uri": "https://localhost:8080/"
        },
        "id": "g__61CSuQWjd",
        "outputId": "b134d309-f61d-47a0-8fb3-3547ba64e579"
      },
      "execution_count": null,
      "outputs": [
        {
          "output_type": "stream",
          "name": "stdout",
          "text": [
            "[[25.4, 242.0], [26.3, 290.0], [26.5, 340.0], [29.0, 363.0], [29.0, 430.0], [29.7, 450.0], [29.7, 500.0], [30.0, 390.0], [30.0, 450.0], [30.7, 500.0], [31.0, 475.0], [31.0, 500.0], [31.5, 500.0], [32.0, 340.0], [32.0, 600.0], [32.0, 600.0], [33.0, 700.0], [33.0, 700.0], [33.5, 610.0], [33.5, 650.0], [34.0, 575.0], [34.0, 685.0], [34.5, 620.0], [35.0, 680.0], [35.0, 700.0], [35.0, 725.0], [35.0, 720.0], [36.0, 714.0], [36.0, 850.0], [37.0, 1000.0], [38.5, 920.0], [38.5, 955.0], [39.5, 925.0], [41.0, 975.0], [41.0, 950.0], [9.8, 6.7], [10.5, 7.5], [10.6, 7.0], [11.0, 9.7], [11.2, 9.8], [11.3, 8.7], [11.8, 10.0], [11.8, 9.9], [12.0, 9.8], [12.2, 12.2], [12.4, 13.4], [13.0, 12.2], [14.3, 19.7], [15.0, 19.9]]\n",
            "[[  25.4  242. ]\n",
            " [  26.3  290. ]\n",
            " [  26.5  340. ]\n",
            " [  29.   363. ]\n",
            " [  29.   430. ]\n",
            " [  29.7  450. ]\n",
            " [  29.7  500. ]\n",
            " [  30.   390. ]\n",
            " [  30.   450. ]\n",
            " [  30.7  500. ]\n",
            " [  31.   475. ]\n",
            " [  31.   500. ]\n",
            " [  31.5  500. ]\n",
            " [  32.   340. ]\n",
            " [  32.   600. ]\n",
            " [  32.   600. ]\n",
            " [  33.   700. ]\n",
            " [  33.   700. ]\n",
            " [  33.5  610. ]\n",
            " [  33.5  650. ]\n",
            " [  34.   575. ]\n",
            " [  34.   685. ]\n",
            " [  34.5  620. ]\n",
            " [  35.   680. ]\n",
            " [  35.   700. ]\n",
            " [  35.   725. ]\n",
            " [  35.   720. ]\n",
            " [  36.   714. ]\n",
            " [  36.   850. ]\n",
            " [  37.  1000. ]\n",
            " [  38.5  920. ]\n",
            " [  38.5  955. ]\n",
            " [  39.5  925. ]\n",
            " [  41.   975. ]\n",
            " [  41.   950. ]\n",
            " [   9.8    6.7]\n",
            " [  10.5    7.5]\n",
            " [  10.6    7. ]\n",
            " [  11.     9.7]\n",
            " [  11.2    9.8]\n",
            " [  11.3    8.7]\n",
            " [  11.8   10. ]\n",
            " [  11.8    9.9]\n",
            " [  12.     9.8]\n",
            " [  12.2   12.2]\n",
            " [  12.4   13.4]\n",
            " [  13.    12.2]\n",
            " [  14.3   19.7]\n",
            " [  15.    19.9]]\n",
            "(49, 2)\n"
          ]
        }
      ]
    },
    {
      "cell_type": "code",
      "source": [
        "np.random.seed(42)  # 일정한 결과값을 갖기 위해 seed() 함수 사용; 없어도 됨\n",
        "index = np.arange(49)   # (n): 0~n 까지의 정수 qoduf; (s, e): start 부터 end 까지의 정수; (s, e, step): start 부터 end 까지 step 단위로 수열 (소수 가능)\n",
        "np.random.shuffle(index)\n",
        "print(index)\n",
        "\n",
        "# np array 를 통해 특정 인덱스들의 데이터를 가져올 수 있다. 사용형태 array[[#, #, ...]]  (2중 배열 형태여야 한다!)\n",
        "# 랜덤한 학습 데이터\n",
        "train_input = input_arr[index[:35]]\n",
        "train_target = target_arr[index[:35]]\n",
        "\n",
        "# 랜덤한 테스트 데이터\n",
        "test_input = input_arr[index[35:]]\n",
        "test_target = target_arr[index[35:]]"
      ],
      "metadata": {
        "colab": {
          "base_uri": "https://localhost:8080/"
        },
        "id": "fwcSmjeGQcx4",
        "outputId": "4dbdb52f-3f5b-423a-e94a-5e9dfde85170"
      },
      "execution_count": null,
      "outputs": [
        {
          "output_type": "stream",
          "name": "stdout",
          "text": [
            "[13 45 47 44 17 27 26 25 31 19 12  4 34  8  3  6 40 41 46 15  9 16 24 33\n",
            " 30  0 43 32  5 29 11 36  1 21  2 37 35 23 39 10 22 18 48 20  7 42 14 28\n",
            " 38]\n"
          ]
        }
      ]
    },
    {
      "cell_type": "code",
      "source": [
        "import matplotlib.pyplot as plt\n",
        "\n",
        "plt.scatter(train_input[:, 0], train_input[:, 1])   # x: length, y: weight; np array 사용방법\n",
        "plt.scatter(test_input[:, 0], test_input[:, 1])\n",
        "plt.xlabel('length')\n",
        "plt.ylabel('weight')\n",
        "plt.show()"
      ],
      "metadata": {
        "colab": {
          "base_uri": "https://localhost:8080/",
          "height": 279
        },
        "id": "7E6OLrqQQgb-",
        "outputId": "09c11aee-f0e7-4d99-cb63-e7ce69929ea2"
      },
      "execution_count": null,
      "outputs": [
        {
          "output_type": "display_data",
          "data": {
            "image/png": "[encoded data removed]",
            "text/plain": [
              "<Figure size 432x288 with 1 Axes>"
            ]
          },
          "metadata": {
            "needs_background": "light"
          }
        }
      ]
    },
    {
      "cell_type": "code",
      "source": [
        "kn = kn.fit(train_input, train_target)\n",
        "kn.score(test_input, test_target)"
      ],
      "metadata": {
        "colab": {
          "base_uri": "https://localhost:8080/"
        },
        "id": "YsJK5x5tQiuq",
        "outputId": "1d673391-fc41-4aed-8554-7ce2c8d73169"
      },
      "execution_count": null,
      "outputs": [
        {
          "output_type": "execute_result",
          "data": {
            "text/plain": [
              "1.0"
            ]
          },
          "metadata": {},
          "execution_count": 7
        }
      ]
    },
    {
      "cell_type": "code",
      "source": [
        "# 개별 테스트한 결과값 얻기\n",
        "print(kn.predict(test_input))   # return np array;    predict([[]])   2차원 features 데이터\n",
        "print(test_target)"
      ],
      "metadata": {
        "colab": {
          "base_uri": "https://localhost:8080/"
        },
        "id": "VRHwBp1EQpCj",
        "outputId": "0c347c7a-084f-40e5-fa81-868d62b2a887"
      },
      "execution_count": null,
      "outputs": [
        {
          "output_type": "stream",
          "name": "stdout",
          "text": [
            "[0 0 1 0 1 1 1 0 1 1 0 1 1 0]\n",
            "[0 0 1 0 1 1 1 0 1 1 0 1 1 0]\n"
          ]
        }
      ]
    },
    {
      "cell_type": "markdown",
      "source": [
        "## scikit-learn 과 numpy 를 이용한 데이터 전처리\n",
        "\n",
        "* numpy 의 column_stack(), concatenate()\n",
        " * column_stack(list1, list2, ...): 리스트들의 각 항목을 하나씩 빼서 2차원 리스트로 만든다.\n",
        " * concatenate(list1, list2, ...): 리스트들을 모두 붙여 1차원 리스트로 만든다.  \n",
        "* 사이킷런의 train_test_split()"
      ],
      "metadata": {
        "id": "2zQ4_Y4VQsH1"
      }
    },
    {
      "cell_type": "code",
      "metadata": {
        "colab": {
          "base_uri": "https://localhost:8080/"
        },
        "id": "I_-Tlu416O7N",
        "outputId": "c653b22c-cb0d-44b1-c811-fd36c0ce4de0"
      },
      "source": [
        "# 1. data 준비\n",
        "\n",
        "fish_length = [25.4, 26.3, 26.5, 29.0, 29.0, 29.7, 29.7, 30.0, 30.0, 30.7, 31.0, 31.0, \n",
        "               31.5, 32.0, 32.0, 32.0, 33.0, 33.0, 33.5, 33.5, 34.0, 34.0, 34.5, 35.0, \n",
        "               35.0, 35.0, 35.0, 36.0, 36.0, 37.0, 38.5, 38.5, 39.5, 41.0, 41.0,\n",
        "               9.8, 10.5, 10.6, 11.0, 11.2, 11.3, 11.8, 11.8, 12.0, 12.2, 12.4, 13.0, 14.3, 15.0]\n",
        "\n",
        "fish_weight = [242.0, 290.0, 340.0, 363.0, 430.0, 450.0, 500.0, 390.0, 450.0, 500.0, 475.0, 500.0, \n",
        "               500.0, 340.0, 600.0, 600.0, 700.0, 700.0, 610.0, 650.0, 575.0, 685.0, 620.0, 680.0, \n",
        "               700.0, 725.0, 720.0, 714.0, 850.0, 1000.0, 920.0, 955.0, 925.0, 975.0, 950.0,\n",
        "               6.7, 7.5, 7.0, 9.7, 9.8, 8.7, 10.0, 9.9, 9.8, 12.2, 13.4, 12.2, 19.7, 19.9]\n",
        "\n",
        "import numpy as np\n",
        "\n",
        "# 학습을 위해 데이터를 2차원 np array 형태로 변형한다.\n",
        "## feature 기준으로 1개의 행이 한개의 데이터가 될 수 있도록 변경하는 방법!!\n",
        "##! column_stack 으로 데이터를 row 기준으로 쌓을 수 있다. 이때 입력은 tuple 이다.\n",
        "fish_data = np.column_stack((fish_length, fish_weight))   # column_stack( ([feature1_data], [feature2_data], [feature3_data], ...) )\n",
        "print(fish_data)\n",
        "\n",
        "##! 아래 방식으로는 이종 데이터를 하나씩 합칠 수 없다! 주의\n",
        "#fish_data = np.array([fish_length, fish_weight])\n",
        "#print(fish_data)\n",
        "\n",
        "# target 1차원 배열 만들기: concatenate 를 통해 1차원 배열 여러개를 붙일 수 있다. 데이터 입력은 tuple 형태이다.\n",
        "fish_target = np.concatenate((np.ones(35), np.zeros(14)))   # concatenate( ([target1_data], [target2_data], ...) )\n",
        "print(fish_target)\n",
        "print('---------1')\n",
        "\n",
        "\n",
        "# 데이터 분리: Train-set, Test-set\n",
        "from sklearn.model_selection import train_test_split\n",
        "\n",
        "# 전체데이터에서 Train/Test set 분리: train_test_split()\n",
        "## return - 입력데이터(2), 타깃데이터(2)\n",
        "## 25% 를 테스트 데이터로 분리\n",
        "## 기준데이터(stratify)가 없으면 전체데이터에서 25%를 분리하기에 편향(bias) 발생할 수 있음; 기준데이터가 있으면 해당 데이터에서 25%를 분리\n",
        "## random_state 는 random 발생 기준값이라서 무시해도 됨.\n",
        "train_input, test_input, train_target, test_target = train_test_split(fish_data, fish_target, stratify=fish_target, random_state=42)\n",
        "\n",
        "print(train_input.shape, test_input.shape)\n",
        "print(train_target.shape, test_target.shape)\n",
        "print(train_target, test_target)    # test_target 의 데이터가 고르게 분포되어 있나 파악 (25%)\n",
        "print('---------2')\n",
        "\n",
        "\n",
        "# feature 들이 각각 다른 분포일 때는 표준화를 통해 분포를 일치시켜 줘야 한다.\n",
        "# 표준점수 = (원본데이터 - 평균) / 표준편차\n",
        "mean = np.mean(train_input, axis=0)   # 데이터 중 행(↓, axis=0) 기준 평균; axis는 방향임을 주의하자. axis=1 인경우 열 기준으로 데이터를 본다\n",
        "std = np.std(train_input, axis=0)     # 데이터 중 행(↓, axis=0) 기준 표준편차\n",
        "print(mean, std)      # 결과는 (length, weight)평균, (length, weight) 표준편차\n",
        "\n",
        "# 표준점수\n",
        "#- 아래 계산식은 산술적이고, 사실 정규화를 위해 사이킷런의 StandardScaler() 를 사용한다. (ch03)\n",
        "train_scaled = (train_input - mean) / std   # np에서 계산 가능한 전체 데이터 X 계산용데이터 처리 방법; broadcasting\n",
        "print(train_scaled)"
      ],
      "execution_count": null,
      "outputs": [
        {
          "output_type": "stream",
          "name": "stdout",
          "text": [
            "[[  25.4  242. ]\n",
            " [  26.3  290. ]\n",
            " [  26.5  340. ]\n",
            " [  29.   363. ]\n",
            " [  29.   430. ]\n",
            " [  29.7  450. ]\n",
            " [  29.7  500. ]\n",
            " [  30.   390. ]\n",
            " [  30.   450. ]\n",
            " [  30.7  500. ]\n",
            " [  31.   475. ]\n",
            " [  31.   500. ]\n",
            " [  31.5  500. ]\n",
            " [  32.   340. ]\n",
            " [  32.   600. ]\n",
            " [  32.   600. ]\n",
            " [  33.   700. ]\n",
            " [  33.   700. ]\n",
            " [  33.5  610. ]\n",
            " [  33.5  650. ]\n",
            " [  34.   575. ]\n",
            " [  34.   685. ]\n",
            " [  34.5  620. ]\n",
            " [  35.   680. ]\n",
            " [  35.   700. ]\n",
            " [  35.   725. ]\n",
            " [  35.   720. ]\n",
            " [  36.   714. ]\n",
            " [  36.   850. ]\n",
            " [  37.  1000. ]\n",
            " [  38.5  920. ]\n",
            " [  38.5  955. ]\n",
            " [  39.5  925. ]\n",
            " [  41.   975. ]\n",
            " [  41.   950. ]\n",
            " [   9.8    6.7]\n",
            " [  10.5    7.5]\n",
            " [  10.6    7. ]\n",
            " [  11.     9.7]\n",
            " [  11.2    9.8]\n",
            " [  11.3    8.7]\n",
            " [  11.8   10. ]\n",
            " [  11.8    9.9]\n",
            " [  12.     9.8]\n",
            " [  12.2   12.2]\n",
            " [  12.4   13.4]\n",
            " [  13.    12.2]\n",
            " [  14.3   19.7]\n",
            " [  15.    19.9]]\n",
            "[1. 1. 1. 1. 1. 1. 1. 1. 1. 1. 1. 1. 1. 1. 1. 1. 1. 1. 1. 1. 1. 1. 1. 1.\n",
            " 1. 1. 1. 1. 1. 1. 1. 1. 1. 1. 1. 0. 0. 0. 0. 0. 0. 0. 0. 0. 0. 0. 0. 0.\n",
            " 0.]\n",
            "---------1\n",
            "(36, 2) (13, 2)\n",
            "(36,) (13,)\n",
            "[1. 0. 1. 0. 1. 1. 1. 1. 1. 1. 1. 0. 1. 0. 1. 1. 1. 1. 1. 0. 1. 1. 0. 1.\n",
            " 0. 1. 0. 1. 1. 1. 0. 1. 1. 0. 1. 1.] [0. 0. 1. 0. 1. 0. 1. 1. 1. 1. 1. 1. 1.]\n",
            "---------2\n",
            "[ 27.29722222 454.09722222] [  9.98244253 323.29893931]\n",
            "[[ 0.24070039  0.14198246]\n",
            " [-1.51237757 -1.36683783]\n",
            " [ 0.5712808   0.76060496]\n",
            " [-1.60253587 -1.37766373]\n",
            " [ 1.22242404  1.45655528]\n",
            " [ 0.17057727 -0.07453542]\n",
            " [ 0.87180845  0.80390854]\n",
            " [ 0.87180845  1.22457184]\n",
            " [ 0.37092904  0.06465464]\n",
            " [ 0.77163257  0.82246721]\n",
            " [ 0.97198434  1.68853872]\n",
            " [-1.61255346 -1.3742613 ]\n",
            " [ 0.72154463  0.51315596]\n",
            " [-1.53241275 -1.3742613 ]\n",
            " [ 0.17057727 -0.28177396]\n",
            " [ 0.5712808   0.76060496]\n",
            " [ 0.34087627  0.14198246]\n",
            " [ 1.12224816  1.54934866]\n",
            " [ 0.62136874  0.60594934]\n",
            " [-1.30200822 -1.34363949]\n",
            " [ 0.42101698  0.14198246]\n",
            " [-0.19005591 -0.65604058]\n",
            " [-1.75279969 -1.38384995]\n",
            " [ 0.47110492  0.45129371]\n",
            " [-1.68267658 -1.38137546]\n",
            " [ 0.62136874  0.48222484]\n",
            " [-1.67265899 -1.38292202]\n",
            " [ 0.77163257  0.76060496]\n",
            " [ 0.47110492  0.45129371]\n",
            " [ 0.77163257  0.83793278]\n",
            " [-1.43223687 -1.36683783]\n",
            " [ 0.27075315 -0.01267317]\n",
            " [ 0.47110492 -0.35291555]\n",
            " [-1.2318851  -1.34302087]\n",
            " [ 0.27075315 -0.19825992]\n",
            " [ 1.37268787  1.61121091]]\n"
          ]
        }
      ]
    },
    {
      "cell_type": "code",
      "metadata": {
        "colab": {
          "base_uri": "https://localhost:8080/"
        },
        "id": "Q_20Yy4U7HQ9",
        "outputId": "c9508f2f-3d2d-4d28-dd1e-d53c5afa37f3"
      },
      "source": [
        "#** 연습 코드 **\n",
        "\n",
        "import numpy as np\n",
        "\n",
        "print(np.column_stack(([1,2,3], [4,5,6])))\n",
        "print(np.ones(5))"
      ],
      "execution_count": null,
      "outputs": [
        {
          "output_type": "stream",
          "text": [
            "[[1 4]\n",
            " [2 5]\n",
            " [3 6]]\n",
            "[1. 1. 1. 1. 1.]\n"
          ],
          "name": "stdout"
        }
      ]
    },
    {
      "cell_type": "code",
      "metadata": {
        "colab": {
          "base_uri": "https://localhost:8080/",
          "height": 279
        },
        "id": "xARdOe2RDePN",
        "outputId": "e0c549a4-04c5-4844-a4bf-a8ab0ea01167"
      },
      "source": [
        "# 전처리된 데이터 분포 확인\n",
        "\n",
        "import matplotlib.pyplot as plt\n",
        "\n",
        "plt.scatter(train_scaled[:, 0], train_scaled[:, 1])     # train_scaled[, 0] = length, [. 1] = weight\n",
        "\n",
        "# 새로 확인할 데이터의 위치 (새로운 데이터도 표준화 해야 함)\n",
        "new_scaled = ([25, 150] - mean) / std\n",
        "plt.scatter(new_scaled[0], new_scaled[1], marker='^')\n",
        "\n",
        "plt.xlabel('length')\n",
        "plt.ylabel('weight')\n",
        "plt.show()\n",
        "\n",
        "#- 가공전 데이터와 비슷한 그래프를 그렸지만 x, y 축의 범위가 동일시 되었음에 주목하자!!"
      ],
      "execution_count": null,
      "outputs": [
        {
          "output_type": "display_data",
          "data": {
            "image/png": "[encoded data removed]",
            "text/plain": [
              "<Figure size 432x288 with 1 Axes>"
            ]
          },
          "metadata": {
            "needs_background": "light"
          }
        }
      ]
    },
    {
      "cell_type": "code",
      "metadata": {
        "colab": {
          "base_uri": "https://localhost:8080/"
        },
        "id": "WscsWX4SNcfZ",
        "outputId": "dc8a3bfb-1adb-4869-e0b5-6d1c4f0ca2db"
      },
      "source": [
        "# 2. 학습 + 평가\n",
        "\n",
        "from sklearn.neighbors import KNeighborsClassifier\n",
        "\n",
        "kn = KNeighborsClassifier()\n",
        "#kn.fit(train_input, train_target)   # fit(2차원 array, 1차원 array)\n",
        "kn.fit(train_scaled, train_target)   # 전처리된 데이터를 가지고 학습 진행\n",
        "\n",
        "#kn.score(test_input, test_target)\n",
        "test_scaled = (test_input - mean) / std     # 학습용 데이터를 전처리하였으면, 테스트 데이터도 같은 방식으로 전처리한다\n",
        "kn.score(test_scaled, test_target)"
      ],
      "execution_count": null,
      "outputs": [
        {
          "output_type": "execute_result",
          "data": {
            "text/plain": [
              "1.0"
            ]
          },
          "metadata": {},
          "execution_count": 3
        }
      ]
    },
    {
      "cell_type": "code",
      "metadata": {
        "colab": {
          "base_uri": "https://localhost:8080/"
        },
        "id": "MLZ6ktPLULoc",
        "outputId": "10b0b3bf-f631-41bd-839e-1d9c5d25199c"
      },
      "source": [
        "# 3. 예측\n",
        "\n",
        "#print(kn.predict( [[25, 150]] ))\n",
        "kn.predict([new_scaled])\n",
        "\n",
        "#- bream(1) 로 판단"
      ],
      "execution_count": null,
      "outputs": [
        {
          "output_type": "execute_result",
          "data": {
            "text/plain": [
              "array([1.])"
            ]
          },
          "metadata": {},
          "execution_count": 4
        }
      ]
    },
    {
      "cell_type": "code",
      "metadata": {
        "colab": {
          "base_uri": "https://localhost:8080/",
          "height": 297
        },
        "id": "yDylW-X-Fqd7",
        "outputId": "49d63944-4669-4612-cf8a-2e21b12d989d"
      },
      "source": [
        "# 4.검증 - KNeighborsClassifier 에서 가까운 거리의 데이터를 그래프에서 확인\n",
        "\n",
        "distances, indexes = kn.kneighbors([new_scaled])    # 새로운 데이터가 입력으로 주어지면 가장 가까운 데이터의 거리, 인덱스를 출력\n",
        "\n",
        "print(distances, indexes)\n",
        "\n",
        "plt.scatter(train_scaled[:, 0], train_scaled[:, 1])\n",
        "plt.scatter(new_scaled[0], new_scaled[1], marker='^')\n",
        "plt.scatter(train_scaled[indexes, 0], train_scaled[indexes, 1], marker='D')\n",
        "\n",
        "plt.xlabel('length')\n",
        "plt.ylabel('weight')\n",
        "plt.show()"
      ],
      "execution_count": null,
      "outputs": [
        {
          "output_type": "stream",
          "name": "stdout",
          "text": [
            "[[0.2873737  0.7711188  0.89552179 0.91493515 0.95427626]] [[21 14 34 32  5]]\n"
          ]
        },
        {
          "output_type": "display_data",
          "data": {
            "image/png": "[encoded data removed]",
            "text/plain": [
              "<Figure size 432x288 with 1 Axes>"
            ]
          },
          "metadata": {
            "needs_background": "light"
          }
        }
      ]
    }
  ]
}