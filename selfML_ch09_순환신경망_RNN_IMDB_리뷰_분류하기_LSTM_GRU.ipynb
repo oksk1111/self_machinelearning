{
  "nbformat": 4,
  "nbformat_minor": 0,
  "metadata": {
    "colab": {
      "name": "selfML_ch09_순환신경망_RNN_IMDB 리뷰 분류하기_LSTM_GRU.ipynb",
      "provenance": [],
      "collapsed_sections": [],
      "authorship_tag": "ABX9TyP2npiRpRAN9LqcjWVxUfQD",
      "include_colab_link": true
    },
    "kernelspec": {
      "name": "python3",
      "display_name": "Python 3"
    },
    "language_info": {
      "name": "python"
    },
    "accelerator": "GPU"
  },
  "cells": [
    {
      "cell_type": "markdown",
      "metadata": {
        "id": "view-in-github",
        "colab_type": "text"
      },
      "source": [
        "<a href=\"https://colab.research.google.com/github/oksk1111/self_machinelearning/blob/main/selfML_ch09_%EC%88%9C%ED%99%98%EC%8B%A0%EA%B2%BD%EB%A7%9D_RNN_IMDB_%EB%A6%AC%EB%B7%B0_%EB%B6%84%EB%A5%98%ED%95%98%EA%B8%B0_LSTM_GRU.ipynb\" target=\"_parent\"><img src=\"https://colab.research.google.com/assets/colab-badge.svg\" alt=\"Open In Colab\"/></a>"
      ]
    },
    {
      "cell_type": "markdown",
      "source": [
        "### 순차데이터 (Sequential data)\n",
        "- 예: 텍스트, 시계열 데이터 (time series data)\n",
        "- 이전 입력이 중요한 데이터\n",
        "- Dense 나 Convolution 은 기억장치가 필요 없다. 순서가 중요치 않다. - 입력데이터의 흐름이 앞으로만 -> 피드포워드 신경망(feedforward neural network: FFNN)\n",
        "\n",
        "# 순환 신경망 (Recurrent neuural network: RNN)\n",
        "- 신경망이 이전에 처리했던 샘플을 다음 샘플을 처리하는데 재사용 - 순환 필요\n",
        "- 모양은 Dense 와 비슷하나 이전 입력에 대한 출력을 다음 입력에 추가한다. 이래서 모양이 순환적으로 생김!!\n",
        "- '이전 샘플에 대한 기억을 가지고 있다' - 타임스텝(timestep)\n",
        "- 타입스텝이 오래될 수록 순환되는 정보는 희미해진다.\n",
        "- RNN 에서 layer 를 셀(cell)이라 부른다.\n",
        "- 셀의 출력 = 은닉상태(hidden state) 라고 부른다.\n",
        "- 일반적으로 은닉층의 활성화함수로 tanh 를 많이 쓴다!"
      ],
      "metadata": {
        "id": "5JqzL7oW_gAJ"
      }
    },
    {
      "cell_type": "code",
      "source": [
        "# 문제: iMDB 리뷰데이터가 긍정인지 아닌지 확인.\n",
        "#- 1은 긍정, 0은 부정 \n",
        "\n",
        "from tensorflow.keras.datasets import imdb\n",
        "(train_input, train_target), (test_input, test_target) = imdb.load_data(num_words=500)    # 해당 함수는 imdb 데이터를 가져오는 특화 함수이다. 가장 많이 등장하는 최빈도 500 개만 가져올 수 있다. 즉, 단어는 500개로 한정된다."
      ],
      "metadata": {
        "colab": {
          "base_uri": "https://localhost:8080/"
        },
        "id": "3XJ_LVTU33w0",
        "outputId": "5ff2cd61-47db-43b6-890a-87e58467123e"
      },
      "execution_count": null,
      "outputs": [
        {
          "output_type": "stream",
          "name": "stdout",
          "text": [
            "Downloading data from https://storage.googleapis.com/tensorflow/tf-keras-datasets/imdb.npz\n",
            "17465344/17464789 [==============================] - 0s 0us/step\n",
            "17473536/17464789 [==============================] - 0s 0us/step\n"
          ]
        }
      ]
    },
    {
      "cell_type": "code",
      "source": [
        "# 데이터 확인\n",
        "print(train_input.shape, test_input.shape)\n",
        "\n",
        "# 첫번째 데이터 리뷰/타겟 확인\n",
        "print(len(train_input[0]))    # 218개의 토큰. 영어의 경우 띄어쓰기 기준 단어\n",
        "print(train_input[0])         # 단어가 정수로 변환된 상태\n",
        "print(train_target[0])        # 리뷰가 긍정(1)인지 부정(0) 인지 파악. boolean 값.\n"
      ],
      "metadata": {
        "colab": {
          "base_uri": "https://localhost:8080/"
        },
        "id": "Vcz51qxU5OsE",
        "outputId": "bf730293-9cad-4ab4-ec99-6d5d886038af"
      },
      "execution_count": null,
      "outputs": [
        {
          "output_type": "stream",
          "name": "stdout",
          "text": [
            "(25000,) (25000,)\n",
            "218\n",
            "[1, 14, 22, 16, 43, 2, 2, 2, 2, 65, 458, 2, 66, 2, 4, 173, 36, 256, 5, 25, 100, 43, 2, 112, 50, 2, 2, 9, 35, 480, 284, 5, 150, 4, 172, 112, 167, 2, 336, 385, 39, 4, 172, 2, 2, 17, 2, 38, 13, 447, 4, 192, 50, 16, 6, 147, 2, 19, 14, 22, 4, 2, 2, 469, 4, 22, 71, 87, 12, 16, 43, 2, 38, 76, 15, 13, 2, 4, 22, 17, 2, 17, 12, 16, 2, 18, 2, 5, 62, 386, 12, 8, 316, 8, 106, 5, 4, 2, 2, 16, 480, 66, 2, 33, 4, 130, 12, 16, 38, 2, 5, 25, 124, 51, 36, 135, 48, 25, 2, 33, 6, 22, 12, 215, 28, 77, 52, 5, 14, 407, 16, 82, 2, 8, 4, 107, 117, 2, 15, 256, 4, 2, 7, 2, 5, 2, 36, 71, 43, 2, 476, 26, 400, 317, 46, 7, 4, 2, 2, 13, 104, 88, 4, 381, 15, 297, 98, 32, 2, 56, 26, 141, 6, 194, 2, 18, 4, 226, 22, 21, 134, 476, 26, 480, 5, 144, 30, 2, 18, 51, 36, 28, 224, 92, 25, 104, 4, 226, 65, 16, 38, 2, 88, 12, 16, 283, 5, 16, 2, 113, 103, 32, 15, 16, 2, 19, 178, 32]\n",
            "1\n"
          ]
        }
      ]
    },
    {
      "cell_type": "code",
      "source": [
        "# 훈련세트에서 검증세트 분리\n",
        "from sklearn.model_selection import train_test_split\n",
        "train_input, val_input, train_target, val_target = train_test_split(train_input, train_target, test_size=0.2, random_state=42)"
      ],
      "metadata": {
        "id": "vpzaoS-p55pG"
      },
      "execution_count": null,
      "outputs": []
    },
    {
      "cell_type": "code",
      "source": [
        "# 각 리뷰 길이 확인\n",
        "import numpy as np\n",
        "lengths = np.array([len(x) for x in train_input])\n",
        "\n",
        "# 전체 리뷰의 평균길이와 중간값 확인\n",
        "print(np.mean(lengths), np.median(lengths))\n",
        "#- 평균과 중간값의 차이가 큰 것으로 보아 데이터가 한쪽으로 치우친듯\n",
        "\n",
        "# 길이 분포 확인 - 입력인 1차원배열의 2차원형태이며, 1차원레벨이 x축 분포로 그려진다.\n",
        "import matplotlib.pyplot as plt\n",
        "plt.hist(lengths)\n",
        "plt.xlabel('length')\n",
        "plt.ylabel('frequency')\n",
        "plt.show()\n"
      ],
      "metadata": {
        "colab": {
          "base_uri": "https://localhost:8080/",
          "height": 297
        },
        "id": "BkmJ0gzx8Gy4",
        "outputId": "c4bcad5d-4417-412f-8bcf-6f8e3ca7584b"
      },
      "execution_count": null,
      "outputs": [
        {
          "output_type": "stream",
          "name": "stdout",
          "text": [
            "239.00925 178.0\n"
          ]
        },
        {
          "output_type": "display_data",
          "data": {
            "image/png": "[encoded data removed]",
            "text/plain": [
              "<Figure size 432x288 with 1 Axes>"
            ]
          },
          "metadata": {
            "needs_background": "light"
          }
        }
      ]
    },
    {
      "cell_type": "code",
      "source": [
        "# 데이터가 많이 치우쳐져 있으므로 100개 길이 미만의 데이터만 쓰기로 한다.\n",
        "#- 100 길이 미만 데이터 중 100에 안 맞는 것은 0으로 패딩을 채우도록 한다.\n",
        "\n",
        "from tensorflow.keras.preprocessing.sequence import pad_sequences\n",
        "train_seq = pad_sequences(train_input, maxlen=100)    # maxlen 으로 설정한값보다 긴건 잘라내고, 짧으면 0(패딩)으로 채운다.\n",
        "#- 긴거 자를땐 앞부분을 자른다.\n",
        "#-- 긴거 뒷부분을 자르고 싶으면 pad_sequences(truncating='post') 로 기입 (기본값은 'pre')\n",
        "\n",
        "# 패딩 결과 확인\n",
        "print(train_seq.shape)    # 샘플 20000, 토큰 100개\n",
        "\n",
        "# 첫번째 데이터 확인\n",
        "print(train_seq[0])\n",
        "\n",
        "# 위 데이터에서 앞이 잘린건지 뒤가 잘린건지...\n",
        "print(train_seq[0][-10:])   # 뒤가 출력되는것으로 보아 앞이 잘림...\n",
        "\n",
        "# 패딩이 들어간 데이터 확인\n",
        "print(train_seq[5])  \n",
        "\n",
        "# 검증세트도 길이 100으로 처리\n",
        "val_seq = pad_sequences(val_input, maxlen=100)"
      ],
      "metadata": {
        "colab": {
          "base_uri": "https://localhost:8080/"
        },
        "id": "7KEgqRyZ9elC",
        "outputId": "4db427ea-72d8-4c0d-e1c0-3b40ef490017"
      },
      "execution_count": null,
      "outputs": [
        {
          "output_type": "stream",
          "name": "stdout",
          "text": [
            "(20000, 100)\n",
            "[ 10   4  20   9   2 364 352   5  45   6   2   2  33 269   8   2 142   2\n",
            "   5   2  17  73  17 204   5   2  19  55   2   2  92  66 104  14  20  93\n",
            "  76   2 151  33   4  58  12 188   2 151  12 215  69 224 142  73 237   6\n",
            "   2   7   2   2 188   2 103  14  31  10  10 451   7   2   5   2  80  91\n",
            "   2  30   2  34  14  20 151  50  26 131  49   2  84  46  50  37  80  79\n",
            "   6   2  46   7  14  20  10  10 470 158]\n",
            "[  6   2  46   7  14  20  10  10 470 158]\n",
            "[  0   0   0   0   1   2 195  19  49   2   2 190   4   2 352   2 183  10\n",
            "  10  13  82  79   4   2  36  71 269   8   2  25  19  49   7   4   2   2\n",
            "   2   2   2  10  10  48  25  40   2  11   2   2  40   2   2   5   4   2\n",
            "   2  95  14 238  56 129   2  10  10  21   2  94 364 352   2   2  11 190\n",
            "  24 484   2   7  94 205 405  10  10  87   2  34  49   2   7   2   2   2\n",
            "   2   2 290   2  46  48  64  18   4   2]\n"
          ]
        }
      ]
    },
    {
      "cell_type": "code",
      "source": [
        "# RNN 만들기\n",
        "#- SimpleRNN 사용\n",
        "#-- (뉴런개수, input_shape(샘플길이, 가능한단어개수)), 기본 activation 함수는 'tanh'\n",
        "# 해당 문제는 0,1 을 찾는 문제이므로, 마지막 출력층은 1개의 뉴런, 활성화함수로 시그모이드 사용.\n",
        "\n",
        "from tensorflow import keras\n",
        "model = keras.Sequential()\n",
        "model.add(keras.layers.SimpleRNN(8, input_shape=(100, 500)))    # SimpleRNN(뉴런개수, input_shape=(100(샘플길이), 500(각토큰마다 500개짜리 원-핫인코딩(500개 단어만 가져왔으므로)))\n",
        "model.add(keras.layers.Dense(1, activation='sigmoid'))\n",
        "\n",
        "# 정수 배열을 원-핫 인코딩으로 변경 to_categorical()\n",
        "#- 인자에 들어가는 배열의 항목을 탐색해 가능한 범위의 항목의 개수(여기선 500개)를 모든 샘플에 추가한다.\n",
        "train_oh = keras.utils.to_categorical(train_seq)    # (2000, 100) 크기의 배열을 정수마다 원-핫 인코딩으로 변형하여 (2000, 100, 500) 이 됨. 입력이 1차원 정수배열 (100,) 에서 (100, 500) 으로 변경\n",
        "print(train_oh.shape)\n",
        "\n",
        "# 원-핫 인코딩 변경된 것 확인\n",
        "print(train_oh[0][0][:12])    # 한 샘플당 500개 이므로 12개 까지만 출력해본다.\n",
        "print(np.sum(train_oh[0][0]))   # 원-핫이 맞는지 확인. 한샘플의 500개 항목을 모두 더했을때 1이 됨을 확인\n",
        "\n",
        "val_oh = keras.utils.to_categorical(val_seq)    # 검증데이터도 똑같이 to_categorical() 수행\n",
        "\n",
        "# 모델 확인\n",
        "model.summary()\n",
        "#- 4072 = 500(500차원 원-핫인코딩) * 8(뉴런개수) + (8 * 8)(은닉상태에서의 가중치) + 8(절편)\n",
        "#- 9 = 8(입력) + 1(절편)"
      ],
      "metadata": {
        "colab": {
          "base_uri": "https://localhost:8080/"
        },
        "id": "smyuQXF0Svtl",
        "outputId": "cf93c83e-3890-4f2f-effc-80b62573c640"
      },
      "execution_count": null,
      "outputs": [
        {
          "output_type": "stream",
          "name": "stdout",
          "text": [
            "(20000, 100, 500)\n",
            "[0. 0. 0. 0. 0. 0. 0. 0. 0. 0. 1. 0.]\n",
            "1.0\n",
            "Model: \"sequential\"\n",
            "_________________________________________________________________\n",
            " Layer (type)                Output Shape              Param #   \n",
            "=================================================================\n",
            " simple_rnn (SimpleRNN)      (None, 8)                 4072      \n",
            "                                                                 \n",
            " dense (Dense)               (None, 1)                 9         \n",
            "                                                                 \n",
            "=================================================================\n",
            "Total params: 4,081\n",
            "Trainable params: 4,081\n",
            "Non-trainable params: 0\n",
            "_________________________________________________________________\n"
          ]
        }
      ]
    },
    {
      "cell_type": "code",
      "source": [
        "# 훈련\n",
        "#- RMSprop 0.001 -> 0.0001 (왜?)\n",
        "#- epoch=100 (왜?)\n",
        "#- barch_size=64 (왜?)\n",
        "rmsprop = keras.optimizers.RMSprop(learning_rate=1e-4)\n",
        "model.compile(optimizer=rmsprop, loss='binary_crossentropy', metrics=['accuracy'])\n",
        "checkpoint_cb = keras.callbacks.ModelCheckpoint('best-simplernn-model.h5')\n",
        "early_stopping_cb = keras.callbacks.EarlyStopping(patience=3, restore_best_weights=True)\n",
        "history = model.fit(train_oh, train_target, epochs=100, batch_size=64, validation_data=(val_oh, val_target), callbacks=[checkpoint_cb, early_stopping_cb])"
      ],
      "metadata": {
        "colab": {
          "base_uri": "https://localhost:8080/"
        },
        "id": "ekh4LwnmhdMk",
        "outputId": "b4a118a6-2df4-4d89-89bf-128269303074"
      },
      "execution_count": null,
      "outputs": [
        {
          "output_type": "stream",
          "name": "stdout",
          "text": [
            "Epoch 1/100\n",
            "313/313 [==============================] - 18s 54ms/step - loss: 0.6987 - accuracy: 0.5015 - val_loss: 0.6958 - val_accuracy: 0.5174\n",
            "Epoch 2/100\n",
            "313/313 [==============================] - 11s 36ms/step - loss: 0.6943 - accuracy: 0.5148 - val_loss: 0.6930 - val_accuracy: 0.5268\n",
            "Epoch 3/100\n",
            "313/313 [==============================] - 12s 37ms/step - loss: 0.6914 - accuracy: 0.5227 - val_loss: 0.6918 - val_accuracy: 0.5196\n",
            "Epoch 4/100\n",
            "313/313 [==============================] - 11s 37ms/step - loss: 0.6891 - accuracy: 0.5325 - val_loss: 0.6899 - val_accuracy: 0.5294\n",
            "Epoch 5/100\n",
            "313/313 [==============================] - 12s 37ms/step - loss: 0.6849 - accuracy: 0.5537 - val_loss: 0.6810 - val_accuracy: 0.5716\n",
            "Epoch 6/100\n",
            "313/313 [==============================] - 12s 37ms/step - loss: 0.6718 - accuracy: 0.6000 - val_loss: 0.6687 - val_accuracy: 0.6112\n",
            "Epoch 7/100\n",
            "313/313 [==============================] - 12s 37ms/step - loss: 0.6561 - accuracy: 0.6354 - val_loss: 0.6523 - val_accuracy: 0.6344\n",
            "Epoch 8/100\n",
            "313/313 [==============================] - 11s 37ms/step - loss: 0.6359 - accuracy: 0.6654 - val_loss: 0.6308 - val_accuracy: 0.6692\n",
            "Epoch 9/100\n",
            "313/313 [==============================] - 12s 38ms/step - loss: 0.6126 - accuracy: 0.6945 - val_loss: 0.6088 - val_accuracy: 0.6962\n",
            "Epoch 10/100\n",
            "313/313 [==============================] - 11s 36ms/step - loss: 0.5891 - accuracy: 0.7193 - val_loss: 0.5864 - val_accuracy: 0.7176\n",
            "Epoch 11/100\n",
            "313/313 [==============================] - 11s 36ms/step - loss: 0.5681 - accuracy: 0.7358 - val_loss: 0.5671 - val_accuracy: 0.7366\n",
            "Epoch 12/100\n",
            "313/313 [==============================] - 11s 37ms/step - loss: 0.5492 - accuracy: 0.7513 - val_loss: 0.5491 - val_accuracy: 0.7470\n",
            "Epoch 13/100\n",
            "313/313 [==============================] - 12s 37ms/step - loss: 0.5322 - accuracy: 0.7599 - val_loss: 0.5355 - val_accuracy: 0.7604\n",
            "Epoch 14/100\n",
            "313/313 [==============================] - 12s 37ms/step - loss: 0.5175 - accuracy: 0.7697 - val_loss: 0.5221 - val_accuracy: 0.7644\n",
            "Epoch 15/100\n",
            "313/313 [==============================] - 12s 37ms/step - loss: 0.5051 - accuracy: 0.7751 - val_loss: 0.5111 - val_accuracy: 0.7668\n",
            "Epoch 16/100\n",
            "313/313 [==============================] - 12s 38ms/step - loss: 0.4935 - accuracy: 0.7820 - val_loss: 0.5014 - val_accuracy: 0.7708\n",
            "Epoch 17/100\n",
            "313/313 [==============================] - 12s 37ms/step - loss: 0.4829 - accuracy: 0.7875 - val_loss: 0.4934 - val_accuracy: 0.7736\n",
            "Epoch 18/100\n",
            "313/313 [==============================] - 11s 37ms/step - loss: 0.4731 - accuracy: 0.7923 - val_loss: 0.4869 - val_accuracy: 0.7748\n",
            "Epoch 19/100\n",
            "313/313 [==============================] - 12s 37ms/step - loss: 0.4652 - accuracy: 0.7956 - val_loss: 0.4817 - val_accuracy: 0.7780\n",
            "Epoch 20/100\n",
            "313/313 [==============================] - 12s 37ms/step - loss: 0.4582 - accuracy: 0.7995 - val_loss: 0.4784 - val_accuracy: 0.7750\n",
            "Epoch 21/100\n",
            "313/313 [==============================] - 12s 38ms/step - loss: 0.4522 - accuracy: 0.8015 - val_loss: 0.4705 - val_accuracy: 0.7838\n",
            "Epoch 22/100\n",
            "313/313 [==============================] - 12s 38ms/step - loss: 0.4471 - accuracy: 0.8046 - val_loss: 0.4658 - val_accuracy: 0.7846\n",
            "Epoch 23/100\n",
            "313/313 [==============================] - 12s 37ms/step - loss: 0.4416 - accuracy: 0.8066 - val_loss: 0.4624 - val_accuracy: 0.7878\n",
            "Epoch 24/100\n",
            "313/313 [==============================] - 12s 37ms/step - loss: 0.4367 - accuracy: 0.8076 - val_loss: 0.4635 - val_accuracy: 0.7832\n",
            "Epoch 25/100\n",
            "313/313 [==============================] - 12s 38ms/step - loss: 0.4337 - accuracy: 0.8093 - val_loss: 0.4610 - val_accuracy: 0.7886\n",
            "Epoch 26/100\n",
            "313/313 [==============================] - 11s 37ms/step - loss: 0.4302 - accuracy: 0.8106 - val_loss: 0.4637 - val_accuracy: 0.7836\n",
            "Epoch 27/100\n",
            "313/313 [==============================] - 11s 37ms/step - loss: 0.4274 - accuracy: 0.8119 - val_loss: 0.4544 - val_accuracy: 0.7880\n",
            "Epoch 28/100\n",
            "313/313 [==============================] - 11s 37ms/step - loss: 0.4242 - accuracy: 0.8141 - val_loss: 0.4525 - val_accuracy: 0.7908\n",
            "Epoch 29/100\n",
            "313/313 [==============================] - 12s 38ms/step - loss: 0.4223 - accuracy: 0.8154 - val_loss: 0.4609 - val_accuracy: 0.7888\n",
            "Epoch 30/100\n",
            "313/313 [==============================] - 12s 37ms/step - loss: 0.4195 - accuracy: 0.8160 - val_loss: 0.4498 - val_accuracy: 0.7918\n",
            "Epoch 31/100\n",
            "313/313 [==============================] - 12s 37ms/step - loss: 0.4178 - accuracy: 0.8166 - val_loss: 0.4494 - val_accuracy: 0.7912\n",
            "Epoch 32/100\n",
            "313/313 [==============================] - 12s 37ms/step - loss: 0.4155 - accuracy: 0.8185 - val_loss: 0.4506 - val_accuracy: 0.7926\n",
            "Epoch 33/100\n",
            "313/313 [==============================] - 12s 37ms/step - loss: 0.4139 - accuracy: 0.8184 - val_loss: 0.4509 - val_accuracy: 0.7926\n",
            "Epoch 34/100\n",
            "313/313 [==============================] - 12s 37ms/step - loss: 0.4121 - accuracy: 0.8187 - val_loss: 0.4492 - val_accuracy: 0.7908\n",
            "Epoch 35/100\n",
            "313/313 [==============================] - 12s 38ms/step - loss: 0.4111 - accuracy: 0.8184 - val_loss: 0.4495 - val_accuracy: 0.7910\n",
            "Epoch 36/100\n",
            "313/313 [==============================] - 12s 37ms/step - loss: 0.4098 - accuracy: 0.8194 - val_loss: 0.4511 - val_accuracy: 0.7944\n",
            "Epoch 37/100\n",
            "313/313 [==============================] - 12s 37ms/step - loss: 0.4082 - accuracy: 0.8209 - val_loss: 0.4517 - val_accuracy: 0.7922\n"
          ]
        }
      ]
    },
    {
      "cell_type": "code",
      "source": [
        "# 검증 그래프 확인\n",
        "plt.plot(history.history['loss'])\n",
        "plt.plot(history.history['val_loss'])\n",
        "plt.xlabel('epoch')\n",
        "plt.ylabel('loss')\n",
        "plt.legend(['train', 'val'])\n",
        "plt.show()"
      ],
      "metadata": {
        "colab": {
          "base_uri": "https://localhost:8080/",
          "height": 279
        },
        "id": "pfdTO_xXkzIR",
        "outputId": "3c65faee-243d-4f39-d9d5-80940239143a"
      },
      "execution_count": null,
      "outputs": [
        {
          "output_type": "display_data",
          "data": {
            "image/png": "[encoded data removed]",
            "text/plain": [
              "<Figure size 432x288 with 1 Axes>"
            ]
          },
          "metadata": {
            "needs_background": "light"
          }
        }
      ]
    },
    {
      "cell_type": "code",
      "source": [
        "# 원-핫 인코딩 방식의 문제 - 입력데이터가 엄청 커진다!!\n",
        "print(train_seq.nbytes, train_oh.nbytes)    # 입력데이터가 원본의 500배로 커짐!!\n",
        "\n",
        "#-> 입력데이터를 효율화 하기 위해 단어임베딩 기법 사용!!"
      ],
      "metadata": {
        "colab": {
          "base_uri": "https://localhost:8080/"
        },
        "id": "EqqNbgwWl3Sy",
        "outputId": "6ee7c096-c36f-49d9-e056-e2fe4ecc75bf"
      },
      "execution_count": null,
      "outputs": [
        {
          "output_type": "stream",
          "name": "stdout",
          "text": [
            "8000000 4000000000\n"
          ]
        }
      ]
    },
    {
      "cell_type": "markdown",
      "source": [
        "# 단어 임베딩 (Word embedding)\n",
        "- 각 단어를 고정된 크기의 실수 벡터로 바꾸어 줌\n",
        "- 장점: 입력으로 정수 데이터를 받는다. (위 데이터에서 tra_seq 사용 가능 - 원-핫인코딩에 비해 메모리 절약 가능), 원핫 인코딩 수행시의 비효율적인 데이터 개수(위 예에서 샘플당 500개) 대신 n개의 정수(=벡터)만 있으면 된다!\n",
        "- 예: 'cat' [0.2, 0.1, 1.3, 0.8, 0.2, 0.4, 1.1, 0.9, 0.2, 0.1] # 다차원 벡터"
      ],
      "metadata": {
        "id": "TI5hnzxlQZQm"
      }
    },
    {
      "cell_type": "code",
      "source": [
        "# Embedding layer 추가\n",
        "model2 = keras.Sequential()\n",
        "model2.add(keras.layers.Embedding(500, 16, input_length=100))   # 500(어휘사전크기), 16(임베딩벡터의 크기)(왜 16?), input_length=입력 시퀀스의 길이(샘플의 길이)\n",
        "#- 8000 = 500 * 16    (500개의 각 토큰을 16인 벡터로 변경)\n",
        "model2.add(keras.layers.SimpleRNN(8))\n",
        "#- 200 = 16(앞층의출력) * 8(뉴런개수) + (8 * 8)(은닉상태에서의 가중치) + 8(절편)\n",
        "model2.add(keras.layers.Dense(1, activation='sigmoid'))\n",
        "\n",
        "model2.summary()"
      ],
      "metadata": {
        "colab": {
          "base_uri": "https://localhost:8080/"
        },
        "id": "EEuVxQlnQYTx",
        "outputId": "4a19fff2-ed14-4981-926a-f3340b30c200"
      },
      "execution_count": null,
      "outputs": [
        {
          "output_type": "stream",
          "name": "stdout",
          "text": [
            "Model: \"sequential_1\"\n",
            "_________________________________________________________________\n",
            " Layer (type)                Output Shape              Param #   \n",
            "=================================================================\n",
            " embedding (Embedding)       (None, 100, 16)           8000      \n",
            "                                                                 \n",
            " simple_rnn_1 (SimpleRNN)    (None, 8)                 200       \n",
            "                                                                 \n",
            " dense_1 (Dense)             (None, 1)                 9         \n",
            "                                                                 \n",
            "=================================================================\n",
            "Total params: 8,209\n",
            "Trainable params: 8,209\n",
            "Non-trainable params: 0\n",
            "_________________________________________________________________\n"
          ]
        }
      ]
    },
    {
      "cell_type": "code",
      "source": [
        "# 워드임베딩 학습\n",
        "rmsprop = keras.optimizers.RMSprop(learning_rate=1e-4)\n",
        "model2.compile(optimizer=rmsprop, loss='binary_crossentropy', metrics=['accuracy'])\n",
        "checkpoint_cb = keras.callbacks.ModelCheckpoint('best-embedding-model.h5')\n",
        "early_stopping_cb = keras.callbacks.EarlyStopping(patience=3, restore_best_weights=True)\n",
        "history = model2.fit(train_seq, train_target, epochs=100, batch_size=64, validation_data=(val_seq, val_target), callbacks=[checkpoint_cb, early_stopping_cb])"
      ],
      "metadata": {
        "colab": {
          "base_uri": "https://localhost:8080/"
        },
        "id": "QPIS6T-IZOC-",
        "outputId": "50ce48e7-9564-427b-b49c-703233c13362"
      },
      "execution_count": null,
      "outputs": [
        {
          "output_type": "stream",
          "name": "stdout",
          "text": [
            "Epoch 1/100\n",
            "313/313 [==============================] - 8s 21ms/step - loss: 0.6956 - accuracy: 0.5015 - val_loss: 0.6928 - val_accuracy: 0.5168\n",
            "Epoch 2/100\n",
            "313/313 [==============================] - 6s 21ms/step - loss: 0.6891 - accuracy: 0.5319 - val_loss: 0.6887 - val_accuracy: 0.5326\n",
            "Epoch 3/100\n",
            "313/313 [==============================] - 7s 21ms/step - loss: 0.6820 - accuracy: 0.5695 - val_loss: 0.6808 - val_accuracy: 0.5754\n",
            "Epoch 4/100\n",
            "313/313 [==============================] - 7s 22ms/step - loss: 0.6594 - accuracy: 0.6393 - val_loss: 0.6309 - val_accuracy: 0.6830\n",
            "Epoch 5/100\n",
            "313/313 [==============================] - 7s 21ms/step - loss: 0.5975 - accuracy: 0.7135 - val_loss: 0.5844 - val_accuracy: 0.7184\n",
            "Epoch 6/100\n",
            "313/313 [==============================] - 6s 21ms/step - loss: 0.5608 - accuracy: 0.7405 - val_loss: 0.5561 - val_accuracy: 0.7426\n",
            "Epoch 7/100\n",
            "313/313 [==============================] - 6s 20ms/step - loss: 0.5388 - accuracy: 0.7565 - val_loss: 0.5345 - val_accuracy: 0.7590\n",
            "Epoch 8/100\n",
            "313/313 [==============================] - 7s 22ms/step - loss: 0.5215 - accuracy: 0.7695 - val_loss: 0.5225 - val_accuracy: 0.7642\n",
            "Epoch 9/100\n",
            "313/313 [==============================] - 6s 21ms/step - loss: 0.5084 - accuracy: 0.7769 - val_loss: 0.5135 - val_accuracy: 0.7668\n",
            "Epoch 10/100\n",
            "313/313 [==============================] - 7s 21ms/step - loss: 0.4958 - accuracy: 0.7842 - val_loss: 0.5056 - val_accuracy: 0.7714\n",
            "Epoch 11/100\n",
            "313/313 [==============================] - 6s 21ms/step - loss: 0.4864 - accuracy: 0.7891 - val_loss: 0.4994 - val_accuracy: 0.7744\n",
            "Epoch 12/100\n",
            "313/313 [==============================] - 7s 21ms/step - loss: 0.4776 - accuracy: 0.7926 - val_loss: 0.5037 - val_accuracy: 0.7686\n",
            "Epoch 13/100\n",
            "313/313 [==============================] - 7s 21ms/step - loss: 0.4705 - accuracy: 0.7970 - val_loss: 0.4895 - val_accuracy: 0.7776\n",
            "Epoch 14/100\n",
            "313/313 [==============================] - 7s 21ms/step - loss: 0.4645 - accuracy: 0.7980 - val_loss: 0.4835 - val_accuracy: 0.7802\n",
            "Epoch 15/100\n",
            "313/313 [==============================] - 6s 20ms/step - loss: 0.4598 - accuracy: 0.8002 - val_loss: 0.4818 - val_accuracy: 0.7784\n",
            "Epoch 16/100\n",
            "313/313 [==============================] - 7s 21ms/step - loss: 0.4543 - accuracy: 0.8043 - val_loss: 0.4812 - val_accuracy: 0.7794\n",
            "Epoch 17/100\n",
            "313/313 [==============================] - 6s 20ms/step - loss: 0.4506 - accuracy: 0.8061 - val_loss: 0.4816 - val_accuracy: 0.7780\n",
            "Epoch 18/100\n",
            "313/313 [==============================] - 7s 21ms/step - loss: 0.4469 - accuracy: 0.8079 - val_loss: 0.4736 - val_accuracy: 0.7866\n",
            "Epoch 19/100\n",
            "313/313 [==============================] - 7s 21ms/step - loss: 0.4438 - accuracy: 0.8089 - val_loss: 0.4701 - val_accuracy: 0.7850\n",
            "Epoch 20/100\n",
            "313/313 [==============================] - 6s 20ms/step - loss: 0.4408 - accuracy: 0.8097 - val_loss: 0.4693 - val_accuracy: 0.7846\n",
            "Epoch 21/100\n",
            "313/313 [==============================] - 6s 20ms/step - loss: 0.4376 - accuracy: 0.8130 - val_loss: 0.4670 - val_accuracy: 0.7852\n",
            "Epoch 22/100\n",
            "313/313 [==============================] - 7s 21ms/step - loss: 0.4363 - accuracy: 0.8107 - val_loss: 0.4652 - val_accuracy: 0.7864\n",
            "Epoch 23/100\n",
            "313/313 [==============================] - 7s 22ms/step - loss: 0.4334 - accuracy: 0.8122 - val_loss: 0.4640 - val_accuracy: 0.7828\n",
            "Epoch 24/100\n",
            "313/313 [==============================] - 7s 21ms/step - loss: 0.4314 - accuracy: 0.8133 - val_loss: 0.4672 - val_accuracy: 0.7844\n",
            "Epoch 25/100\n",
            "313/313 [==============================] - 7s 22ms/step - loss: 0.4282 - accuracy: 0.8145 - val_loss: 0.4660 - val_accuracy: 0.7844\n",
            "Epoch 26/100\n",
            "313/313 [==============================] - 7s 21ms/step - loss: 0.4265 - accuracy: 0.8146 - val_loss: 0.4620 - val_accuracy: 0.7866\n",
            "Epoch 27/100\n",
            "313/313 [==============================] - 7s 21ms/step - loss: 0.4254 - accuracy: 0.8146 - val_loss: 0.4678 - val_accuracy: 0.7840\n",
            "Epoch 28/100\n",
            "313/313 [==============================] - 6s 20ms/step - loss: 0.4237 - accuracy: 0.8148 - val_loss: 0.4603 - val_accuracy: 0.7882\n",
            "Epoch 29/100\n",
            "313/313 [==============================] - 6s 21ms/step - loss: 0.4217 - accuracy: 0.8172 - val_loss: 0.4632 - val_accuracy: 0.7890\n",
            "Epoch 30/100\n",
            "313/313 [==============================] - 6s 21ms/step - loss: 0.4206 - accuracy: 0.8158 - val_loss: 0.4577 - val_accuracy: 0.7892\n",
            "Epoch 31/100\n",
            "313/313 [==============================] - 7s 21ms/step - loss: 0.4182 - accuracy: 0.8175 - val_loss: 0.4585 - val_accuracy: 0.7896\n",
            "Epoch 32/100\n",
            "313/313 [==============================] - 6s 21ms/step - loss: 0.4169 - accuracy: 0.8193 - val_loss: 0.4588 - val_accuracy: 0.7874\n",
            "Epoch 33/100\n",
            "313/313 [==============================] - 6s 21ms/step - loss: 0.4156 - accuracy: 0.8164 - val_loss: 0.4570 - val_accuracy: 0.7884\n",
            "Epoch 34/100\n",
            "313/313 [==============================] - 6s 21ms/step - loss: 0.4138 - accuracy: 0.8198 - val_loss: 0.4589 - val_accuracy: 0.7914\n",
            "Epoch 35/100\n",
            "313/313 [==============================] - 6s 20ms/step - loss: 0.4124 - accuracy: 0.8220 - val_loss: 0.4584 - val_accuracy: 0.7888\n",
            "Epoch 36/100\n",
            "313/313 [==============================] - 7s 21ms/step - loss: 0.4113 - accuracy: 0.8212 - val_loss: 0.4576 - val_accuracy: 0.7934\n"
          ]
        }
      ]
    },
    {
      "cell_type": "code",
      "source": [
        "# 훈련/검증 손실 그래프 출력\n",
        "plt.plot(history.history['loss'])\n",
        "plt.plot(history.history['val_loss'])\n",
        "plt.xlabel('epoch')\n",
        "plt.ylabel('loss')\n",
        "plt.legend(['train', 'val'])\n",
        "plt.show()"
      ],
      "metadata": {
        "colab": {
          "base_uri": "https://localhost:8080/",
          "height": 279
        },
        "id": "sdbO8vtRaXpN",
        "outputId": "f566ad04-e3c6-498a-9add-36ebe5ac4b85"
      },
      "execution_count": null,
      "outputs": [
        {
          "output_type": "display_data",
          "data": {
            "image/png": "[encoded data removed]",
            "text/plain": [
              "<Figure size 432x288 with 1 Axes>"
            ]
          },
          "metadata": {
            "needs_background": "light"
          }
        }
      ]
    },
    {
      "cell_type": "markdown",
      "source": [
        "# LSTM(Long Short-Term memory), GRU셀\n",
        "- 일반적으로 기본 순환층(SimpleRNN)은 긴 시퀀스를 학습하기 어렵다.\n",
        "- 시퀀스가 길수록 순환되는 은닉 상태에 담긴 저보가 점차 희석되기 때문.\n",
        "- 이를 보완하기 위한 것이 LSTM(Long Short-Term memory), GRU셀\n",
        "\n",
        "1. LSTM\n",
        "- 총 4개의 셀이 존재\n",
        "\n",
        "2. GRU\n",
        "- 총 3개의 셀이 존재\n",
        "\n",
        "![LSTM_GRU](https://www.researchgate.net/publication/344831339/figure/fig9/AS:949709535465489@1603439806333/The-indepenent-cells-of-RNN-LSTM-and-GRU.png)"
      ],
      "metadata": {
        "id": "YDxh4g0DT20y"
      }
    },
    {
      "cell_type": "code",
      "source": [
        "# LSTM 신경망 훈련하기\n",
        "\n",
        "# 데이터 가져오기\n",
        "from tensorflow.keras.datasets import imdb\n",
        "from sklearn.model_selection import train_test_split\n",
        "(train_input, train_target), (test_input, test_target) = imdb.load_data(num_words=500)\n",
        "train_input, val_input, train_target, val_target = train_test_split(train_input, train_target, test_size=0.2, random_state=42)"
      ],
      "metadata": {
        "colab": {
          "base_uri": "https://localhost:8080/"
        },
        "id": "Gya8PwE4zM9q",
        "outputId": "e5bcd121-add6-48e5-8d9d-a2876d29c9b2"
      },
      "execution_count": 1,
      "outputs": [
        {
          "output_type": "stream",
          "name": "stdout",
          "text": [
            "Downloading data from https://storage.googleapis.com/tensorflow/tf-keras-datasets/imdb.npz\n",
            "17465344/17464789 [==============================] - 0s 0us/step\n",
            "17473536/17464789 [==============================] - 0s 0us/step\n"
          ]
        }
      ]
    },
    {
      "cell_type": "code",
      "source": [
        "# 데이터 전처리\n",
        "# padding\n",
        "from tensorflow.keras.preprocessing.sequence import pad_sequences\n",
        "train_seq = pad_sequences(train_input, maxlen=100)\n",
        "val_seq = pad_sequences(val_input, maxlen=100)\n",
        "\n",
        "# LSTM 포함한 model 만들기\n",
        "from tensorflow import keras\n",
        "model = keras.Sequential()\n",
        "model.add(keras.layers.Embedding(500, 16, input_length=100))\n",
        "model.add(keras.layers.LSTM(8))   # 이게 추가!!\n",
        "#- 800 = (16(앞층의출력) * 8(뉴런개수) + (8 * 8)(은닉상태에서의 가중치)) + 8(절편))4(LSTM 4개의 셀)\n",
        "model.add(keras.layers.Dense(1, activation='sigmoid'))\n",
        "\n",
        "model.summary()"
      ],
      "metadata": {
        "colab": {
          "base_uri": "https://localhost:8080/"
        },
        "id": "W8eXgLv2zSDO",
        "outputId": "76d27e16-26b9-42d7-9be2-a581c2aec438"
      },
      "execution_count": 2,
      "outputs": [
        {
          "output_type": "stream",
          "name": "stdout",
          "text": [
            "Model: \"sequential\"\n",
            "_________________________________________________________________\n",
            " Layer (type)                Output Shape              Param #   \n",
            "=================================================================\n",
            " embedding (Embedding)       (None, 100, 16)           8000      \n",
            "                                                                 \n",
            " lstm (LSTM)                 (None, 8)                 800       \n",
            "                                                                 \n",
            " dense (Dense)               (None, 1)                 9         \n",
            "                                                                 \n",
            "=================================================================\n",
            "Total params: 8,809\n",
            "Trainable params: 8,809\n",
            "Non-trainable params: 0\n",
            "_________________________________________________________________\n"
          ]
        }
      ]
    },
    {
      "cell_type": "code",
      "source": [
        "print(train_seq[:2])"
      ],
      "metadata": {
        "colab": {
          "base_uri": "https://localhost:8080/"
        },
        "id": "KbUGIvAxzXYc",
        "outputId": "716c5c38-0be0-4411-acad-3ac340752632"
      },
      "execution_count": 6,
      "outputs": [
        {
          "output_type": "stream",
          "name": "stdout",
          "text": [
            "[[ 10   4  20   9   2 364 352   5  45   6   2   2  33 269   8   2 142   2\n",
            "    5   2  17  73  17 204   5   2  19  55   2   2  92  66 104  14  20  93\n",
            "   76   2 151  33   4  58  12 188   2 151  12 215  69 224 142  73 237   6\n",
            "    2   7   2   2 188   2 103  14  31  10  10 451   7   2   5   2  80  91\n",
            "    2  30   2  34  14  20 151  50  26 131  49   2  84  46  50  37  80  79\n",
            "    6   2  46   7  14  20  10  10 470 158]\n",
            " [206   2  26   2   5   2   4 414   9   2  60   4   2 461   2   2  33   4\n",
            "   58   7  94   2   2  16 467   4   2   7   2   2   6 132  19   2   5   2\n",
            "    2   2   2   2  18  14 282   2   2   2  56  14   2   2   2   2  17  48\n",
            "   12  16   4   2  20   7  32  58   2  12  83  35   2   2   2   2   2 211\n",
            "   28   2 475   2  75  70 168   2  12  17   6   2   2 206   2  19   6   2\n",
            "  312   2   2   2   2   2   5   6   2   2]]\n"
          ]
        }
      ]
    },
    {
      "cell_type": "code",
      "source": [
        "# 모델 컴파일 + 훈련\n",
        "rmsprop = keras.optimizers.RMSprop(learning_rate=1e-4)\n",
        "model.compile(optimizer=rmsprop, loss='binary_crossentropy', metrics=['accuracy'])\n",
        "checkpoint_cb = keras.callbacks.ModelCheckpoint('best-lstm-model.h5')\n",
        "early_stopping_cb = keras.callbacks.EarlyStopping(patience=3, restore_best_weights=True)\n",
        "history = model.fit(train_seq, train_target, epochs=100, batch_size=64, validation_data=(val_seq, val_target), callbacks=[checkpoint_cb, early_stopping_cb])"
      ],
      "metadata": {
        "colab": {
          "base_uri": "https://localhost:8080/"
        },
        "id": "FG9WzpTczgcl",
        "outputId": "a84cbbca-4324-4b42-ac29-b84d52b369d3"
      },
      "execution_count": 7,
      "outputs": [
        {
          "output_type": "stream",
          "name": "stdout",
          "text": [
            "Epoch 1/100\n",
            "313/313 [==============================] - 17s 45ms/step - loss: 0.6920 - accuracy: 0.5544 - val_loss: 0.6906 - val_accuracy: 0.5968\n",
            "Epoch 2/100\n",
            "313/313 [==============================] - 14s 43ms/step - loss: 0.6878 - accuracy: 0.6270 - val_loss: 0.6842 - val_accuracy: 0.6426\n",
            "Epoch 3/100\n",
            "313/313 [==============================] - 13s 43ms/step - loss: 0.6736 - accuracy: 0.6668 - val_loss: 0.6536 - val_accuracy: 0.6702\n",
            "Epoch 4/100\n",
            "313/313 [==============================] - 14s 43ms/step - loss: 0.6101 - accuracy: 0.7087 - val_loss: 0.5804 - val_accuracy: 0.7218\n",
            "Epoch 5/100\n",
            "313/313 [==============================] - 14s 43ms/step - loss: 0.5645 - accuracy: 0.7329 - val_loss: 0.5540 - val_accuracy: 0.7390\n",
            "Epoch 6/100\n",
            "313/313 [==============================] - 13s 43ms/step - loss: 0.5405 - accuracy: 0.7504 - val_loss: 0.5342 - val_accuracy: 0.7540\n",
            "Epoch 7/100\n",
            "313/313 [==============================] - 14s 44ms/step - loss: 0.5202 - accuracy: 0.7617 - val_loss: 0.5180 - val_accuracy: 0.7638\n",
            "Epoch 8/100\n",
            "313/313 [==============================] - 13s 43ms/step - loss: 0.5031 - accuracy: 0.7715 - val_loss: 0.5042 - val_accuracy: 0.7682\n",
            "Epoch 9/100\n",
            "313/313 [==============================] - 13s 43ms/step - loss: 0.4884 - accuracy: 0.7791 - val_loss: 0.4908 - val_accuracy: 0.7752\n",
            "Epoch 10/100\n",
            "313/313 [==============================] - 13s 43ms/step - loss: 0.4752 - accuracy: 0.7879 - val_loss: 0.4842 - val_accuracy: 0.7808\n",
            "Epoch 11/100\n",
            "313/313 [==============================] - 14s 43ms/step - loss: 0.4639 - accuracy: 0.7933 - val_loss: 0.4710 - val_accuracy: 0.7828\n",
            "Epoch 12/100\n",
            "313/313 [==============================] - 14s 44ms/step - loss: 0.4542 - accuracy: 0.7988 - val_loss: 0.4635 - val_accuracy: 0.7900\n",
            "Epoch 13/100\n",
            "313/313 [==============================] - 14s 43ms/step - loss: 0.4466 - accuracy: 0.8007 - val_loss: 0.4600 - val_accuracy: 0.7878\n",
            "Epoch 14/100\n",
            "313/313 [==============================] - 14s 44ms/step - loss: 0.4402 - accuracy: 0.8025 - val_loss: 0.4515 - val_accuracy: 0.7952\n",
            "Epoch 15/100\n",
            "313/313 [==============================] - 13s 43ms/step - loss: 0.4349 - accuracy: 0.8055 - val_loss: 0.4493 - val_accuracy: 0.7958\n",
            "Epoch 16/100\n",
            "313/313 [==============================] - 14s 43ms/step - loss: 0.4303 - accuracy: 0.8079 - val_loss: 0.4444 - val_accuracy: 0.7984\n",
            "Epoch 17/100\n",
            "313/313 [==============================] - 14s 43ms/step - loss: 0.4265 - accuracy: 0.8098 - val_loss: 0.4420 - val_accuracy: 0.7970\n",
            "Epoch 18/100\n",
            "313/313 [==============================] - 13s 43ms/step - loss: 0.4235 - accuracy: 0.8088 - val_loss: 0.4397 - val_accuracy: 0.7982\n",
            "Epoch 19/100\n",
            "313/313 [==============================] - 13s 43ms/step - loss: 0.4207 - accuracy: 0.8103 - val_loss: 0.4433 - val_accuracy: 0.7996\n",
            "Epoch 20/100\n",
            "313/313 [==============================] - 13s 43ms/step - loss: 0.4185 - accuracy: 0.8105 - val_loss: 0.4371 - val_accuracy: 0.8016\n",
            "Epoch 21/100\n",
            "313/313 [==============================] - 13s 43ms/step - loss: 0.4167 - accuracy: 0.8123 - val_loss: 0.4356 - val_accuracy: 0.7988\n",
            "Epoch 22/100\n",
            "313/313 [==============================] - 14s 44ms/step - loss: 0.4151 - accuracy: 0.8116 - val_loss: 0.4339 - val_accuracy: 0.7986\n",
            "Epoch 23/100\n",
            "313/313 [==============================] - 14s 44ms/step - loss: 0.4133 - accuracy: 0.8120 - val_loss: 0.4347 - val_accuracy: 0.8020\n",
            "Epoch 24/100\n",
            "313/313 [==============================] - 14s 44ms/step - loss: 0.4123 - accuracy: 0.8124 - val_loss: 0.4336 - val_accuracy: 0.8014\n",
            "Epoch 25/100\n",
            "313/313 [==============================] - 14s 44ms/step - loss: 0.4109 - accuracy: 0.8137 - val_loss: 0.4338 - val_accuracy: 0.8036\n",
            "Epoch 26/100\n",
            "313/313 [==============================] - 14s 45ms/step - loss: 0.4098 - accuracy: 0.8138 - val_loss: 0.4320 - val_accuracy: 0.8012\n",
            "Epoch 27/100\n",
            "313/313 [==============================] - 14s 46ms/step - loss: 0.4086 - accuracy: 0.8132 - val_loss: 0.4382 - val_accuracy: 0.8002\n",
            "Epoch 28/100\n",
            "313/313 [==============================] - 14s 45ms/step - loss: 0.4083 - accuracy: 0.8130 - val_loss: 0.4317 - val_accuracy: 0.8006\n",
            "Epoch 29/100\n",
            "313/313 [==============================] - 14s 44ms/step - loss: 0.4070 - accuracy: 0.8134 - val_loss: 0.4323 - val_accuracy: 0.7990\n",
            "Epoch 30/100\n",
            "313/313 [==============================] - 15s 47ms/step - loss: 0.4062 - accuracy: 0.8148 - val_loss: 0.4315 - val_accuracy: 0.8030\n",
            "Epoch 31/100\n",
            "313/313 [==============================] - 15s 49ms/step - loss: 0.4057 - accuracy: 0.8137 - val_loss: 0.4325 - val_accuracy: 0.8038\n",
            "Epoch 32/100\n",
            "313/313 [==============================] - 14s 43ms/step - loss: 0.4051 - accuracy: 0.8146 - val_loss: 0.4305 - val_accuracy: 0.7988\n",
            "Epoch 33/100\n",
            "313/313 [==============================] - 14s 44ms/step - loss: 0.4045 - accuracy: 0.8141 - val_loss: 0.4311 - val_accuracy: 0.8036\n",
            "Epoch 34/100\n",
            "313/313 [==============================] - 14s 44ms/step - loss: 0.4035 - accuracy: 0.8155 - val_loss: 0.4299 - val_accuracy: 0.8016\n",
            "Epoch 35/100\n",
            "313/313 [==============================] - 14s 45ms/step - loss: 0.4034 - accuracy: 0.8157 - val_loss: 0.4299 - val_accuracy: 0.8030\n",
            "Epoch 36/100\n",
            "313/313 [==============================] - 14s 44ms/step - loss: 0.4030 - accuracy: 0.8134 - val_loss: 0.4301 - val_accuracy: 0.8036\n",
            "Epoch 37/100\n",
            "313/313 [==============================] - 14s 43ms/step - loss: 0.4021 - accuracy: 0.8144 - val_loss: 0.4335 - val_accuracy: 0.8012\n"
          ]
        }
      ]
    },
    {
      "cell_type": "code",
      "source": [
        "# 훈련/검증 손실 그래프로 확인\n",
        "import matplotlib.pyplot as plt\n",
        "plt.plot(history.history['loss'])\n",
        "plt.plot(history.history['val_loss'])\n",
        "plt.xlabel('epoch')\n",
        "plt.ylabel('loss')\n",
        "plt.legend(['train', 'val'])\n",
        "plt.show()\n",
        "\n",
        "#- 과대적합을 더 줄이기 위한 방법은? -드롭아웃"
      ],
      "metadata": {
        "colab": {
          "base_uri": "https://localhost:8080/",
          "height": 279
        },
        "id": "3ug2cZTl2MFa",
        "outputId": "efbff348-766b-418e-f9f7-5d19382d9176"
      },
      "execution_count": 8,
      "outputs": [
        {
          "output_type": "display_data",
          "data": {
            "image/png": "[encoded data removed]",
            "text/plain": [
              "<Figure size 432x288 with 1 Axes>"
            ]
          },
          "metadata": {
            "needs_background": "light"
          }
        }
      ]
    },
    {
      "cell_type": "code",
      "source": [
        "# RNN에 드롭아웃 적용하기\n",
        "#- 드롭아웃은 과대적합을 막기 위해 사용한다!\n",
        "#- RNN 은 자체적으로 드롭아웃 기능을 제공한다.\n",
        "#- SimpleRNN(), LSTM()은 매개변수로 dropout, recurrent_dropout 을 가지고 있다.\n",
        "#-- dropout 매개변수: 셀의 입력에 드롭아웃 적용\n",
        "#-- recurrent_dropout 매개변수: 순환되는 은닉상태에 드롭아웃 적용 (기술적인 문제로 GPU를 사용하여 모델 훈련 못함!!)\n",
        "\n",
        "model2 = keras.Sequential()\n",
        "model2.add(keras.layers.Embedding(500, 16, input_length=100))\n",
        "model2.add(keras.layers.LSTM(8, dropout=0.3))   # 드롭아웃 비중 30%\n",
        "model2.add(keras.layers.Dense(1, activation='sigmoid'))"
      ],
      "metadata": {
        "id": "mLs5w6Fe4OX_"
      },
      "execution_count": 9,
      "outputs": []
    },
    {
      "cell_type": "code",
      "source": [
        "# 훈련\n",
        "rmsprop = keras.optimizers.RMSprop(learning_rate=1e-4)\n",
        "model2.compile(optimizer=rmsprop, loss='binary_crossentropy', metrics=['accuracy'])\n",
        "checkpoint_cb = keras.callbacks.ModelCheckpoint('best-dropout-model.h5')\n",
        "early_stopping_cb = keras.callbacks.EarlyStopping(patience=3, restore_best_weights=True)\n",
        "history = model2.fit(train_seq, train_target, epochs=100, batch_size=64, validation_data=(val_seq, val_target), callbacks=[checkpoint_cb, early_stopping_cb])"
      ],
      "metadata": {
        "colab": {
          "base_uri": "https://localhost:8080/"
        },
        "id": "WXoUD7XH4tN8",
        "outputId": "3afba1e0-f6b3-43ad-90e0-283c2fb748b4"
      },
      "execution_count": 10,
      "outputs": [
        {
          "output_type": "stream",
          "name": "stdout",
          "text": [
            "Epoch 1/100\n",
            "313/313 [==============================] - 18s 47ms/step - loss: 0.6926 - accuracy: 0.5494 - val_loss: 0.6921 - val_accuracy: 0.5728\n",
            "Epoch 2/100\n",
            "313/313 [==============================] - 14s 45ms/step - loss: 0.6907 - accuracy: 0.6157 - val_loss: 0.6892 - val_accuracy: 0.6542\n",
            "Epoch 3/100\n",
            "313/313 [==============================] - 14s 46ms/step - loss: 0.6831 - accuracy: 0.6507 - val_loss: 0.6683 - val_accuracy: 0.6280\n",
            "Epoch 4/100\n",
            "313/313 [==============================] - 14s 46ms/step - loss: 0.6379 - accuracy: 0.6951 - val_loss: 0.6145 - val_accuracy: 0.7148\n",
            "Epoch 5/100\n",
            "313/313 [==============================] - 14s 45ms/step - loss: 0.6088 - accuracy: 0.7164 - val_loss: 0.5948 - val_accuracy: 0.7284\n",
            "Epoch 6/100\n",
            "313/313 [==============================] - 14s 46ms/step - loss: 0.5911 - accuracy: 0.7296 - val_loss: 0.5780 - val_accuracy: 0.7374\n",
            "Epoch 7/100\n",
            "313/313 [==============================] - 14s 45ms/step - loss: 0.5736 - accuracy: 0.7372 - val_loss: 0.5618 - val_accuracy: 0.7490\n",
            "Epoch 8/100\n",
            "313/313 [==============================] - 14s 45ms/step - loss: 0.5557 - accuracy: 0.7482 - val_loss: 0.5473 - val_accuracy: 0.7508\n",
            "Epoch 9/100\n",
            "313/313 [==============================] - 14s 45ms/step - loss: 0.5387 - accuracy: 0.7578 - val_loss: 0.5319 - val_accuracy: 0.7572\n",
            "Epoch 10/100\n",
            "313/313 [==============================] - 14s 45ms/step - loss: 0.5247 - accuracy: 0.7664 - val_loss: 0.5179 - val_accuracy: 0.7662\n",
            "Epoch 11/100\n",
            "313/313 [==============================] - 14s 45ms/step - loss: 0.5116 - accuracy: 0.7723 - val_loss: 0.5056 - val_accuracy: 0.7764\n",
            "Epoch 12/100\n",
            "313/313 [==============================] - 14s 45ms/step - loss: 0.4989 - accuracy: 0.7795 - val_loss: 0.4968 - val_accuracy: 0.7822\n",
            "Epoch 13/100\n",
            "313/313 [==============================] - 14s 45ms/step - loss: 0.4889 - accuracy: 0.7863 - val_loss: 0.4869 - val_accuracy: 0.7854\n",
            "Epoch 14/100\n",
            "313/313 [==============================] - 14s 45ms/step - loss: 0.4805 - accuracy: 0.7893 - val_loss: 0.4795 - val_accuracy: 0.7876\n",
            "Epoch 15/100\n",
            "313/313 [==============================] - 14s 45ms/step - loss: 0.4727 - accuracy: 0.7919 - val_loss: 0.4722 - val_accuracy: 0.7926\n",
            "Epoch 16/100\n",
            "313/313 [==============================] - 14s 45ms/step - loss: 0.4660 - accuracy: 0.7949 - val_loss: 0.4668 - val_accuracy: 0.7948\n",
            "Epoch 17/100\n",
            "313/313 [==============================] - 14s 45ms/step - loss: 0.4598 - accuracy: 0.7952 - val_loss: 0.4620 - val_accuracy: 0.7940\n",
            "Epoch 18/100\n",
            "313/313 [==============================] - 14s 45ms/step - loss: 0.4553 - accuracy: 0.7983 - val_loss: 0.4576 - val_accuracy: 0.7972\n",
            "Epoch 19/100\n",
            "313/313 [==============================] - 14s 45ms/step - loss: 0.4479 - accuracy: 0.8010 - val_loss: 0.4535 - val_accuracy: 0.7986\n",
            "Epoch 20/100\n",
            "313/313 [==============================] - 14s 45ms/step - loss: 0.4457 - accuracy: 0.7995 - val_loss: 0.4591 - val_accuracy: 0.7912\n",
            "Epoch 21/100\n",
            "313/313 [==============================] - 14s 45ms/step - loss: 0.4419 - accuracy: 0.8033 - val_loss: 0.4481 - val_accuracy: 0.7994\n",
            "Epoch 22/100\n",
            "313/313 [==============================] - 14s 45ms/step - loss: 0.4387 - accuracy: 0.8028 - val_loss: 0.4450 - val_accuracy: 0.7966\n",
            "Epoch 23/100\n",
            "313/313 [==============================] - 14s 45ms/step - loss: 0.4356 - accuracy: 0.8039 - val_loss: 0.4435 - val_accuracy: 0.7984\n",
            "Epoch 24/100\n",
            "313/313 [==============================] - 14s 44ms/step - loss: 0.4319 - accuracy: 0.8043 - val_loss: 0.4411 - val_accuracy: 0.7990\n",
            "Epoch 25/100\n",
            "313/313 [==============================] - 14s 45ms/step - loss: 0.4295 - accuracy: 0.8074 - val_loss: 0.4395 - val_accuracy: 0.7990\n",
            "Epoch 26/100\n",
            "313/313 [==============================] - 14s 46ms/step - loss: 0.4296 - accuracy: 0.8041 - val_loss: 0.4383 - val_accuracy: 0.7992\n",
            "Epoch 27/100\n",
            "313/313 [==============================] - 14s 45ms/step - loss: 0.4274 - accuracy: 0.8064 - val_loss: 0.4372 - val_accuracy: 0.7998\n",
            "Epoch 28/100\n",
            "313/313 [==============================] - 14s 46ms/step - loss: 0.4259 - accuracy: 0.8062 - val_loss: 0.4373 - val_accuracy: 0.7992\n",
            "Epoch 29/100\n",
            "313/313 [==============================] - 14s 45ms/step - loss: 0.4238 - accuracy: 0.8069 - val_loss: 0.4402 - val_accuracy: 0.7952\n",
            "Epoch 30/100\n",
            "313/313 [==============================] - 14s 46ms/step - loss: 0.4233 - accuracy: 0.8065 - val_loss: 0.4346 - val_accuracy: 0.8000\n",
            "Epoch 31/100\n",
            "313/313 [==============================] - 14s 45ms/step - loss: 0.4210 - accuracy: 0.8087 - val_loss: 0.4345 - val_accuracy: 0.8008\n",
            "Epoch 32/100\n",
            "313/313 [==============================] - 14s 45ms/step - loss: 0.4199 - accuracy: 0.8088 - val_loss: 0.4334 - val_accuracy: 0.8012\n",
            "Epoch 33/100\n",
            "313/313 [==============================] - 14s 45ms/step - loss: 0.4192 - accuracy: 0.8081 - val_loss: 0.4340 - val_accuracy: 0.8046\n",
            "Epoch 34/100\n",
            "313/313 [==============================] - 14s 46ms/step - loss: 0.4175 - accuracy: 0.8104 - val_loss: 0.4336 - val_accuracy: 0.8048\n",
            "Epoch 35/100\n",
            "313/313 [==============================] - 14s 45ms/step - loss: 0.4173 - accuracy: 0.8092 - val_loss: 0.4360 - val_accuracy: 0.8024\n"
          ]
        }
      ]
    },
    {
      "cell_type": "code",
      "source": [
        "# 훈련/검증 손실 그래프로 확인\n",
        "plt.plot(history.history['loss'])\n",
        "plt.plot(history.history['val_loss'])\n",
        "plt.xlabel('epoch')\n",
        "plt.ylabel('loss')\n",
        "plt.legend(['train', 'val'])\n",
        "plt.show()\n",
        "\n",
        "#- val_loss 가 개선됨"
      ],
      "metadata": {
        "colab": {
          "base_uri": "https://localhost:8080/",
          "height": 279
        },
        "id": "YZZk65As42x1",
        "outputId": "e5dbf516-7d54-4369-8712-1ba555096ee4"
      },
      "execution_count": 11,
      "outputs": [
        {
          "output_type": "display_data",
          "data": {
            "image/png": "[encoded data removed]",
            "text/plain": [
              "<Figure size 432x288 with 1 Axes>"
            ]
          },
          "metadata": {
            "needs_background": "light"
          }
        }
      ]
    },
    {
      "cell_type": "code",
      "source": [
        "# 2개의 층을 연결하기\n",
        "#- 주의: 순환층의 은닉상태는 샘플의 마지막 타임스텝에 대한 은닉 상태만 다음 층으로 전달한다.\n",
        "#-- 순환층을 쌓게 되면 모든 순환층에 순차 데이터가 필요하다.\n",
        "#--- 따라서 앞쪽의 순환층이 모든 타임스텝에 대한 은닉 상태를 출력해야 한다.\n",
        "#--- 오직 마지막 순환층만 마지막 타임스텝의 은닉 상태를 출력해야 한다.\n",
        "\n",
        "# RNN 에서 모든 타임스텝의 은닉 상태를 출력 - return_sequences=True 매개면수 추가\n",
        "model3 = keras.Sequential()\n",
        "model3.add(keras.layers.Embedding(500, 16, input_length=100))\n",
        "model3.add(keras.layers.LSTM(8, dropout=0.3, return_sequences=True))\n",
        "#- 모든 타임스텝(100개)의 은닉 상태를 출력 (100, 8)\n",
        "model3.add(keras.layers.LSTM(8, dropout=0.3))\n",
        "#- 마지막 타임스텝의 은닉 상태만 출력 (8)\n",
        "model3.add(keras.layers.Dense(1, activation='sigmoid'))\n",
        "\n",
        "model3.summary()"
      ],
      "metadata": {
        "colab": {
          "base_uri": "https://localhost:8080/"
        },
        "id": "SdokimRR7zPp",
        "outputId": "1e07acea-f8cb-405e-fefe-30b2cfed9268"
      },
      "execution_count": 3,
      "outputs": [
        {
          "output_type": "stream",
          "name": "stdout",
          "text": [
            "Model: \"sequential_1\"\n",
            "_________________________________________________________________\n",
            " Layer (type)                Output Shape              Param #   \n",
            "=================================================================\n",
            " embedding_1 (Embedding)     (None, 100, 16)           8000      \n",
            "                                                                 \n",
            " lstm_1 (LSTM)               (None, 100, 8)            800       \n",
            "                                                                 \n",
            " lstm_2 (LSTM)               (None, 8)                 544       \n",
            "                                                                 \n",
            " dense_1 (Dense)             (None, 1)                 9         \n",
            "                                                                 \n",
            "=================================================================\n",
            "Total params: 9,353\n",
            "Trainable params: 9,353\n",
            "Non-trainable params: 0\n",
            "_________________________________________________________________\n"
          ]
        }
      ]
    },
    {
      "cell_type": "code",
      "source": [
        "# 훈련\n",
        "rmsprop = keras.optimizers.RMSprop(learning_rate=1e-4)\n",
        "model3.compile(optimizer=rmsprop, loss='binary_crossentropy', metrics=['accuracy'])\n",
        "checkpoint_cb = keras.callbacks.ModelCheckpoint('best-2rnn-model.h5')\n",
        "early_stopping_cb = keras.callbacks.EarlyStopping(patience=3, restore_best_weights=True)\n",
        "history = model3.fit(train_seq, train_target, epochs=100, batch_size=64, validation_data=(val_seq, val_target), callbacks=[checkpoint_cb, early_stopping_cb])"
      ],
      "metadata": {
        "colab": {
          "base_uri": "https://localhost:8080/"
        },
        "id": "VP6xJtwM8F2O",
        "outputId": "32e7592b-9b36-4c59-f65f-2a130f0f3f51"
      },
      "execution_count": 4,
      "outputs": [
        {
          "output_type": "stream",
          "name": "stdout",
          "text": [
            "Epoch 1/100\n",
            "313/313 [==============================] - 21s 45ms/step - loss: 0.6924 - accuracy: 0.5540 - val_loss: 0.6913 - val_accuracy: 0.6012\n",
            "Epoch 2/100\n",
            "313/313 [==============================] - 13s 42ms/step - loss: 0.6875 - accuracy: 0.6204 - val_loss: 0.6805 - val_accuracy: 0.6600\n",
            "Epoch 3/100\n",
            "313/313 [==============================] - 13s 42ms/step - loss: 0.6572 - accuracy: 0.6604 - val_loss: 0.6188 - val_accuracy: 0.6896\n",
            "Epoch 4/100\n",
            "313/313 [==============================] - 13s 42ms/step - loss: 0.5792 - accuracy: 0.7034 - val_loss: 0.5444 - val_accuracy: 0.7302\n",
            "Epoch 5/100\n",
            "313/313 [==============================] - 13s 42ms/step - loss: 0.5330 - accuracy: 0.7376 - val_loss: 0.5147 - val_accuracy: 0.7484\n",
            "Epoch 6/100\n",
            "313/313 [==============================] - 13s 42ms/step - loss: 0.5119 - accuracy: 0.7539 - val_loss: 0.4961 - val_accuracy: 0.7620\n",
            "Epoch 7/100\n",
            "313/313 [==============================] - 13s 42ms/step - loss: 0.4981 - accuracy: 0.7646 - val_loss: 0.4853 - val_accuracy: 0.7698\n",
            "Epoch 8/100\n",
            "313/313 [==============================] - 13s 43ms/step - loss: 0.4874 - accuracy: 0.7691 - val_loss: 0.4769 - val_accuracy: 0.7756\n",
            "Epoch 9/100\n",
            "313/313 [==============================] - 13s 43ms/step - loss: 0.4777 - accuracy: 0.7769 - val_loss: 0.4708 - val_accuracy: 0.7806\n",
            "Epoch 10/100\n",
            "313/313 [==============================] - 13s 43ms/step - loss: 0.4708 - accuracy: 0.7800 - val_loss: 0.4678 - val_accuracy: 0.7814\n",
            "Epoch 11/100\n",
            "313/313 [==============================] - 13s 43ms/step - loss: 0.4646 - accuracy: 0.7850 - val_loss: 0.4655 - val_accuracy: 0.7824\n",
            "Epoch 12/100\n",
            "313/313 [==============================] - 13s 43ms/step - loss: 0.4638 - accuracy: 0.7841 - val_loss: 0.4614 - val_accuracy: 0.7860\n",
            "Epoch 13/100\n",
            "313/313 [==============================] - 13s 43ms/step - loss: 0.4580 - accuracy: 0.7893 - val_loss: 0.4584 - val_accuracy: 0.7880\n",
            "Epoch 14/100\n",
            "313/313 [==============================] - 13s 42ms/step - loss: 0.4562 - accuracy: 0.7904 - val_loss: 0.4567 - val_accuracy: 0.7900\n",
            "Epoch 15/100\n",
            "313/313 [==============================] - 13s 43ms/step - loss: 0.4520 - accuracy: 0.7920 - val_loss: 0.4545 - val_accuracy: 0.7902\n",
            "Epoch 16/100\n",
            "313/313 [==============================] - 13s 43ms/step - loss: 0.4502 - accuracy: 0.7926 - val_loss: 0.4529 - val_accuracy: 0.7910\n",
            "Epoch 17/100\n",
            "313/313 [==============================] - 13s 43ms/step - loss: 0.4506 - accuracy: 0.7929 - val_loss: 0.4520 - val_accuracy: 0.7924\n",
            "Epoch 18/100\n",
            "313/313 [==============================] - 13s 43ms/step - loss: 0.4456 - accuracy: 0.7940 - val_loss: 0.4499 - val_accuracy: 0.7920\n",
            "Epoch 19/100\n",
            "313/313 [==============================] - 13s 43ms/step - loss: 0.4426 - accuracy: 0.7960 - val_loss: 0.4492 - val_accuracy: 0.7918\n",
            "Epoch 20/100\n",
            "313/313 [==============================] - 13s 43ms/step - loss: 0.4411 - accuracy: 0.7989 - val_loss: 0.4465 - val_accuracy: 0.7914\n",
            "Epoch 21/100\n",
            "313/313 [==============================] - 13s 43ms/step - loss: 0.4381 - accuracy: 0.7982 - val_loss: 0.4448 - val_accuracy: 0.7938\n",
            "Epoch 22/100\n",
            "313/313 [==============================] - 13s 43ms/step - loss: 0.4373 - accuracy: 0.7999 - val_loss: 0.4438 - val_accuracy: 0.7934\n",
            "Epoch 23/100\n",
            "313/313 [==============================] - 13s 43ms/step - loss: 0.4363 - accuracy: 0.8010 - val_loss: 0.4431 - val_accuracy: 0.7942\n",
            "Epoch 24/100\n",
            "313/313 [==============================] - 13s 43ms/step - loss: 0.4331 - accuracy: 0.8003 - val_loss: 0.4415 - val_accuracy: 0.7932\n",
            "Epoch 25/100\n",
            "313/313 [==============================] - 13s 43ms/step - loss: 0.4321 - accuracy: 0.8034 - val_loss: 0.4483 - val_accuracy: 0.7968\n",
            "Epoch 26/100\n",
            "313/313 [==============================] - 13s 43ms/step - loss: 0.4315 - accuracy: 0.8038 - val_loss: 0.4387 - val_accuracy: 0.7978\n",
            "Epoch 27/100\n",
            "313/313 [==============================] - 13s 43ms/step - loss: 0.4301 - accuracy: 0.8036 - val_loss: 0.4378 - val_accuracy: 0.7988\n",
            "Epoch 28/100\n",
            "313/313 [==============================] - 13s 43ms/step - loss: 0.4278 - accuracy: 0.8031 - val_loss: 0.4365 - val_accuracy: 0.7978\n",
            "Epoch 29/100\n",
            "313/313 [==============================] - 13s 43ms/step - loss: 0.4276 - accuracy: 0.8037 - val_loss: 0.4374 - val_accuracy: 0.7910\n",
            "Epoch 30/100\n",
            "313/313 [==============================] - 13s 43ms/step - loss: 0.4275 - accuracy: 0.8047 - val_loss: 0.4357 - val_accuracy: 0.7936\n",
            "Epoch 31/100\n",
            "313/313 [==============================] - 13s 43ms/step - loss: 0.4243 - accuracy: 0.8051 - val_loss: 0.4343 - val_accuracy: 0.7990\n",
            "Epoch 32/100\n",
            "313/313 [==============================] - 13s 43ms/step - loss: 0.4228 - accuracy: 0.8056 - val_loss: 0.4340 - val_accuracy: 0.8004\n",
            "Epoch 33/100\n",
            "313/313 [==============================] - 13s 43ms/step - loss: 0.4241 - accuracy: 0.8080 - val_loss: 0.4334 - val_accuracy: 0.8032\n",
            "Epoch 34/100\n",
            "313/313 [==============================] - 13s 43ms/step - loss: 0.4207 - accuracy: 0.8073 - val_loss: 0.4329 - val_accuracy: 0.8026\n",
            "Epoch 35/100\n",
            "313/313 [==============================] - 13s 43ms/step - loss: 0.4223 - accuracy: 0.8065 - val_loss: 0.4359 - val_accuracy: 0.8014\n",
            "Epoch 36/100\n",
            "313/313 [==============================] - 13s 43ms/step - loss: 0.4202 - accuracy: 0.8099 - val_loss: 0.4312 - val_accuracy: 0.7996\n",
            "Epoch 37/100\n",
            "313/313 [==============================] - 13s 43ms/step - loss: 0.4186 - accuracy: 0.8095 - val_loss: 0.4307 - val_accuracy: 0.7996\n",
            "Epoch 38/100\n",
            "313/313 [==============================] - 13s 43ms/step - loss: 0.4201 - accuracy: 0.8088 - val_loss: 0.4323 - val_accuracy: 0.8038\n",
            "Epoch 39/100\n",
            "313/313 [==============================] - 13s 43ms/step - loss: 0.4206 - accuracy: 0.8062 - val_loss: 0.4344 - val_accuracy: 0.8024\n",
            "Epoch 40/100\n",
            "313/313 [==============================] - 13s 43ms/step - loss: 0.4178 - accuracy: 0.8113 - val_loss: 0.4300 - val_accuracy: 0.8008\n",
            "Epoch 41/100\n",
            "313/313 [==============================] - 13s 43ms/step - loss: 0.4173 - accuracy: 0.8109 - val_loss: 0.4320 - val_accuracy: 0.8028\n",
            "Epoch 42/100\n",
            "313/313 [==============================] - 13s 43ms/step - loss: 0.4190 - accuracy: 0.8102 - val_loss: 0.4291 - val_accuracy: 0.8036\n",
            "Epoch 43/100\n",
            "313/313 [==============================] - 13s 43ms/step - loss: 0.4162 - accuracy: 0.8098 - val_loss: 0.4298 - val_accuracy: 0.8052\n",
            "Epoch 44/100\n",
            "313/313 [==============================] - 13s 43ms/step - loss: 0.4148 - accuracy: 0.8101 - val_loss: 0.4301 - val_accuracy: 0.8046\n",
            "Epoch 45/100\n",
            "313/313 [==============================] - 13s 43ms/step - loss: 0.4150 - accuracy: 0.8102 - val_loss: 0.4315 - val_accuracy: 0.7984\n"
          ]
        }
      ]
    },
    {
      "cell_type": "code",
      "source": [
        "# 일반적으로 RNN을 쌓으면 성능이 높아진다고 한다.\n",
        "# 이 예에서는 그리 큰 효과를 내지 못한거라고 한다.\n",
        "\n",
        "# 손실 그래프로 확인\n",
        "plt.plot(history.history['loss'])\n",
        "plt.plot(history.history['val_loss'])\n",
        "plt.xlabel('epoch')\n",
        "plt.ylabel('loss')\n",
        "plt.legend(['train', 'val'])\n",
        "plt.show()"
      ],
      "metadata": {
        "colab": {
          "base_uri": "https://localhost:8080/",
          "height": 279
        },
        "id": "KVQtCiu38JLo",
        "outputId": "5ca070e1-8e84-4308-8714-774217b2c605"
      },
      "execution_count": 6,
      "outputs": [
        {
          "output_type": "display_data",
          "data": {
            "image/png": "[encoded data removed]",
            "text/plain": [
              "<Figure size 432x288 with 1 Axes>"
            ]
          },
          "metadata": {
            "needs_background": "light"
          }
        }
      ]
    },
    {
      "cell_type": "code",
      "source": [
        "# GRU -----------------------------\n",
        "\n",
        "model4 = keras.Sequential()\n",
        "model4.add(keras.layers.Embedding(500, 16, input_length=100))\n",
        "#- 800 = 500 * 16\n",
        "model4.add(keras.layers.GRU(8))\n",
        "#- 624 = ((16(앞출력의입력) * 8(노드))(입력에 곱하는 가중치) + (8 * 8)(은닉에 곱하는 가중치) + (8*3)(절편)) * 3(GRU 셀 3개)\n",
        "model4.add(keras.layers.Dense(1, activation='sigmoid'))\n",
        "\n",
        "model4.summary()"
      ],
      "metadata": {
        "colab": {
          "base_uri": "https://localhost:8080/"
        },
        "id": "DG_kjRGG-1yN",
        "outputId": "8b412428-32e4-494d-dee3-5a86ca4e15fd"
      },
      "execution_count": 7,
      "outputs": [
        {
          "output_type": "stream",
          "name": "stdout",
          "text": [
            "Model: \"sequential_2\"\n",
            "_________________________________________________________________\n",
            " Layer (type)                Output Shape              Param #   \n",
            "=================================================================\n",
            " embedding_2 (Embedding)     (None, 100, 16)           8000      \n",
            "                                                                 \n",
            " gru (GRU)                   (None, 8)                 624       \n",
            "                                                                 \n",
            " dense_2 (Dense)             (None, 1)                 9         \n",
            "                                                                 \n",
            "=================================================================\n",
            "Total params: 8,633\n",
            "Trainable params: 8,633\n",
            "Non-trainable params: 0\n",
            "_________________________________________________________________\n"
          ]
        }
      ]
    },
    {
      "cell_type": "code",
      "source": [
        "# 학습\n",
        "rmsprop = keras.optimizers.RMSprop(learning_rate=1e-4)\n",
        "model4.compile(optimizer=rmsprop, loss='binary_crossentropy', metrics=['accuracy'])\n",
        "checkpoint_cb = keras.callbacks.ModelCheckpoint('best-gru-model.h5')\n",
        "early_stopping_cb = keras.callbacks.EarlyStopping(patience=3, restore_best_weights=True)\n",
        "history = model4.fit(train_seq, train_target, epochs=100, batch_size=64, validation_data=(val_seq, val_target), callbacks=[checkpoint_cb, early_stopping_cb])"
      ],
      "metadata": {
        "colab": {
          "base_uri": "https://localhost:8080/"
        },
        "id": "hFvcoHE0_Eu7",
        "outputId": "08f9679f-feec-4d4d-a1b4-c49ad6e89c11"
      },
      "execution_count": 8,
      "outputs": [
        {
          "output_type": "stream",
          "name": "stdout",
          "text": [
            "Epoch 1/100\n",
            "313/313 [==============================] - 9s 22ms/step - loss: 0.6923 - accuracy: 0.5314 - val_loss: 0.6915 - val_accuracy: 0.5598\n",
            "Epoch 2/100\n",
            "313/313 [==============================] - 6s 21ms/step - loss: 0.6906 - accuracy: 0.5655 - val_loss: 0.6895 - val_accuracy: 0.5814\n",
            "Epoch 3/100\n",
            "313/313 [==============================] - 6s 21ms/step - loss: 0.6878 - accuracy: 0.5932 - val_loss: 0.6863 - val_accuracy: 0.5888\n",
            "Epoch 4/100\n",
            "313/313 [==============================] - 6s 21ms/step - loss: 0.6834 - accuracy: 0.6076 - val_loss: 0.6812 - val_accuracy: 0.6076\n",
            "Epoch 5/100\n",
            "313/313 [==============================] - 6s 21ms/step - loss: 0.6765 - accuracy: 0.6192 - val_loss: 0.6736 - val_accuracy: 0.6150\n",
            "Epoch 6/100\n",
            "313/313 [==============================] - 6s 21ms/step - loss: 0.6661 - accuracy: 0.6348 - val_loss: 0.6619 - val_accuracy: 0.6256\n",
            "Epoch 7/100\n",
            "313/313 [==============================] - 6s 21ms/step - loss: 0.6508 - accuracy: 0.6469 - val_loss: 0.6449 - val_accuracy: 0.6382\n",
            "Epoch 8/100\n",
            "313/313 [==============================] - 6s 21ms/step - loss: 0.6279 - accuracy: 0.6672 - val_loss: 0.6188 - val_accuracy: 0.6632\n",
            "Epoch 9/100\n",
            "313/313 [==============================] - 7s 21ms/step - loss: 0.5925 - accuracy: 0.6939 - val_loss: 0.5763 - val_accuracy: 0.7046\n",
            "Epoch 10/100\n",
            "313/313 [==============================] - 6s 21ms/step - loss: 0.5337 - accuracy: 0.7356 - val_loss: 0.5225 - val_accuracy: 0.7474\n",
            "Epoch 11/100\n",
            "313/313 [==============================] - 6s 21ms/step - loss: 0.4971 - accuracy: 0.7606 - val_loss: 0.5019 - val_accuracy: 0.7570\n",
            "Epoch 12/100\n",
            "313/313 [==============================] - 6s 20ms/step - loss: 0.4819 - accuracy: 0.7731 - val_loss: 0.4905 - val_accuracy: 0.7654\n",
            "Epoch 13/100\n",
            "313/313 [==============================] - 6s 21ms/step - loss: 0.4708 - accuracy: 0.7802 - val_loss: 0.4820 - val_accuracy: 0.7760\n",
            "Epoch 14/100\n",
            "313/313 [==============================] - 6s 21ms/step - loss: 0.4617 - accuracy: 0.7869 - val_loss: 0.4772 - val_accuracy: 0.7732\n",
            "Epoch 15/100\n",
            "313/313 [==============================] - 6s 21ms/step - loss: 0.4548 - accuracy: 0.7914 - val_loss: 0.4702 - val_accuracy: 0.7796\n",
            "Epoch 16/100\n",
            "313/313 [==============================] - 6s 21ms/step - loss: 0.4485 - accuracy: 0.7960 - val_loss: 0.4690 - val_accuracy: 0.7798\n",
            "Epoch 17/100\n",
            "313/313 [==============================] - 6s 21ms/step - loss: 0.4438 - accuracy: 0.7993 - val_loss: 0.4624 - val_accuracy: 0.7874\n",
            "Epoch 18/100\n",
            "313/313 [==============================] - 6s 21ms/step - loss: 0.4399 - accuracy: 0.8012 - val_loss: 0.4597 - val_accuracy: 0.7860\n",
            "Epoch 19/100\n",
            "313/313 [==============================] - 6s 21ms/step - loss: 0.4362 - accuracy: 0.8060 - val_loss: 0.4566 - val_accuracy: 0.7892\n",
            "Epoch 20/100\n",
            "313/313 [==============================] - 6s 21ms/step - loss: 0.4333 - accuracy: 0.8073 - val_loss: 0.4553 - val_accuracy: 0.7894\n",
            "Epoch 21/100\n",
            "313/313 [==============================] - 6s 21ms/step - loss: 0.4308 - accuracy: 0.8097 - val_loss: 0.4597 - val_accuracy: 0.7898\n",
            "Epoch 22/100\n",
            "313/313 [==============================] - 6s 21ms/step - loss: 0.4289 - accuracy: 0.8097 - val_loss: 0.4523 - val_accuracy: 0.7902\n",
            "Epoch 23/100\n",
            "313/313 [==============================] - 6s 21ms/step - loss: 0.4273 - accuracy: 0.8111 - val_loss: 0.4513 - val_accuracy: 0.7894\n",
            "Epoch 24/100\n",
            "313/313 [==============================] - 6s 21ms/step - loss: 0.4259 - accuracy: 0.8122 - val_loss: 0.4519 - val_accuracy: 0.7930\n",
            "Epoch 25/100\n",
            "313/313 [==============================] - 6s 21ms/step - loss: 0.4248 - accuracy: 0.8120 - val_loss: 0.4504 - val_accuracy: 0.7890\n",
            "Epoch 26/100\n",
            "313/313 [==============================] - 6s 21ms/step - loss: 0.4235 - accuracy: 0.8123 - val_loss: 0.4550 - val_accuracy: 0.7848\n",
            "Epoch 27/100\n",
            "313/313 [==============================] - 6s 21ms/step - loss: 0.4220 - accuracy: 0.8139 - val_loss: 0.4479 - val_accuracy: 0.7926\n",
            "Epoch 28/100\n",
            "313/313 [==============================] - 6s 21ms/step - loss: 0.4210 - accuracy: 0.8141 - val_loss: 0.4477 - val_accuracy: 0.7932\n",
            "Epoch 29/100\n",
            "313/313 [==============================] - 6s 21ms/step - loss: 0.4203 - accuracy: 0.8145 - val_loss: 0.4471 - val_accuracy: 0.7942\n",
            "Epoch 30/100\n",
            "313/313 [==============================] - 6s 21ms/step - loss: 0.4200 - accuracy: 0.8143 - val_loss: 0.4482 - val_accuracy: 0.7928\n",
            "Epoch 31/100\n",
            "313/313 [==============================] - 6s 21ms/step - loss: 0.4194 - accuracy: 0.8133 - val_loss: 0.4463 - val_accuracy: 0.7914\n",
            "Epoch 32/100\n",
            "313/313 [==============================] - 7s 21ms/step - loss: 0.4185 - accuracy: 0.8155 - val_loss: 0.4467 - val_accuracy: 0.7934\n",
            "Epoch 33/100\n",
            "313/313 [==============================] - 6s 21ms/step - loss: 0.4181 - accuracy: 0.8145 - val_loss: 0.4451 - val_accuracy: 0.7898\n",
            "Epoch 34/100\n",
            "313/313 [==============================] - 6s 21ms/step - loss: 0.4180 - accuracy: 0.8144 - val_loss: 0.4452 - val_accuracy: 0.7912\n",
            "Epoch 35/100\n",
            "313/313 [==============================] - 6s 21ms/step - loss: 0.4171 - accuracy: 0.8145 - val_loss: 0.4435 - val_accuracy: 0.7908\n",
            "Epoch 36/100\n",
            "313/313 [==============================] - 6s 21ms/step - loss: 0.4165 - accuracy: 0.8160 - val_loss: 0.4459 - val_accuracy: 0.7890\n",
            "Epoch 37/100\n",
            "313/313 [==============================] - 6s 21ms/step - loss: 0.4161 - accuracy: 0.8146 - val_loss: 0.4431 - val_accuracy: 0.7948\n",
            "Epoch 38/100\n",
            "313/313 [==============================] - 6s 21ms/step - loss: 0.4157 - accuracy: 0.8141 - val_loss: 0.4446 - val_accuracy: 0.7898\n",
            "Epoch 39/100\n",
            "313/313 [==============================] - 6s 21ms/step - loss: 0.4154 - accuracy: 0.8159 - val_loss: 0.4427 - val_accuracy: 0.7942\n",
            "Epoch 40/100\n",
            "313/313 [==============================] - 7s 21ms/step - loss: 0.4152 - accuracy: 0.8153 - val_loss: 0.4426 - val_accuracy: 0.7906\n",
            "Epoch 41/100\n",
            "313/313 [==============================] - 7s 21ms/step - loss: 0.4144 - accuracy: 0.8147 - val_loss: 0.4414 - val_accuracy: 0.7918\n",
            "Epoch 42/100\n",
            "313/313 [==============================] - 7s 21ms/step - loss: 0.4143 - accuracy: 0.8150 - val_loss: 0.4423 - val_accuracy: 0.7964\n",
            "Epoch 43/100\n",
            "313/313 [==============================] - 6s 21ms/step - loss: 0.4136 - accuracy: 0.8158 - val_loss: 0.4405 - val_accuracy: 0.7936\n",
            "Epoch 44/100\n",
            "313/313 [==============================] - 6s 21ms/step - loss: 0.4137 - accuracy: 0.8153 - val_loss: 0.4402 - val_accuracy: 0.7942\n",
            "Epoch 45/100\n",
            "313/313 [==============================] - 6s 21ms/step - loss: 0.4131 - accuracy: 0.8156 - val_loss: 0.4420 - val_accuracy: 0.7940\n",
            "Epoch 46/100\n",
            "313/313 [==============================] - 6s 21ms/step - loss: 0.4134 - accuracy: 0.8158 - val_loss: 0.4420 - val_accuracy: 0.7924\n",
            "Epoch 47/100\n",
            "313/313 [==============================] - 7s 21ms/step - loss: 0.4126 - accuracy: 0.8151 - val_loss: 0.4393 - val_accuracy: 0.7954\n",
            "Epoch 48/100\n",
            "313/313 [==============================] - 6s 21ms/step - loss: 0.4124 - accuracy: 0.8164 - val_loss: 0.4391 - val_accuracy: 0.7962\n",
            "Epoch 49/100\n",
            "313/313 [==============================] - 7s 21ms/step - loss: 0.4122 - accuracy: 0.8164 - val_loss: 0.4392 - val_accuracy: 0.7982\n",
            "Epoch 50/100\n",
            "313/313 [==============================] - 7s 21ms/step - loss: 0.4119 - accuracy: 0.8161 - val_loss: 0.4402 - val_accuracy: 0.7950\n",
            "Epoch 51/100\n",
            "313/313 [==============================] - 7s 21ms/step - loss: 0.4118 - accuracy: 0.8162 - val_loss: 0.4381 - val_accuracy: 0.7964\n",
            "Epoch 52/100\n",
            "313/313 [==============================] - 7s 21ms/step - loss: 0.4114 - accuracy: 0.8152 - val_loss: 0.4374 - val_accuracy: 0.7966\n",
            "Epoch 53/100\n",
            "313/313 [==============================] - 6s 21ms/step - loss: 0.4110 - accuracy: 0.8171 - val_loss: 0.4377 - val_accuracy: 0.7964\n",
            "Epoch 54/100\n",
            "313/313 [==============================] - 7s 21ms/step - loss: 0.4108 - accuracy: 0.8170 - val_loss: 0.4367 - val_accuracy: 0.7980\n",
            "Epoch 55/100\n",
            "313/313 [==============================] - 7s 21ms/step - loss: 0.4106 - accuracy: 0.8163 - val_loss: 0.4367 - val_accuracy: 0.7962\n",
            "Epoch 56/100\n",
            "313/313 [==============================] - 6s 21ms/step - loss: 0.4101 - accuracy: 0.8169 - val_loss: 0.4385 - val_accuracy: 0.7970\n",
            "Epoch 57/100\n",
            "313/313 [==============================] - 7s 21ms/step - loss: 0.4098 - accuracy: 0.8174 - val_loss: 0.4368 - val_accuracy: 0.7980\n",
            "Epoch 58/100\n",
            "313/313 [==============================] - 7s 21ms/step - loss: 0.4098 - accuracy: 0.8179 - val_loss: 0.4377 - val_accuracy: 0.7986\n"
          ]
        }
      ]
    },
    {
      "cell_type": "code",
      "source": [
        "# 결과 손실 그래프 확인\n",
        "import matplotlib.pyplot as plt\n",
        "plt.plot(history.history['loss'])\n",
        "plt.plot(history.history['val_loss'])\n",
        "plt.xlabel('epoch')\n",
        "plt.ylabel('loss')\n",
        "plt.legend(['train', 'val'])\n",
        "plt.show()\n",
        "\n",
        "#- 드롭아웃을 쓰면 valid 가 더 효과적일 것이다."
      ],
      "metadata": {
        "colab": {
          "base_uri": "https://localhost:8080/",
          "height": 279
        },
        "id": "mEzvlNVX_HZ_",
        "outputId": "e583fd31-54f9-497a-f9bd-ce11c1df7ccd"
      },
      "execution_count": 9,
      "outputs": [
        {
          "output_type": "display_data",
          "data": {
            "image/png": "[encoded data removed]",
            "text/plain": [
              "<Figure size 432x288 with 1 Axes>"
            ]
          },
          "metadata": {
            "needs_background": "light"
          }
        }
      ]
    },
    {
      "cell_type": "code",
      "source": [
        "# 위 과정중에 가장 성능이 좋았던 2 RNN 의 평가\n",
        "test_seq = pad_sequences(test_input, maxlen=100)\n",
        "rnn_model = keras.models.load_model('best-2rnn-model.h5')\n",
        "rnn_model.evaluate(test_seq, test_target)"
      ],
      "metadata": {
        "colab": {
          "base_uri": "https://localhost:8080/"
        },
        "id": "dtFroYetAor1",
        "outputId": "91d3e044-9924-4473-9e99-a63741da858b"
      },
      "execution_count": 10,
      "outputs": [
        {
          "output_type": "stream",
          "name": "stdout",
          "text": [
            "782/782 [==============================] - 13s 16ms/step - loss: 0.4261 - accuracy: 0.7998\n"
          ]
        },
        {
          "output_type": "execute_result",
          "data": {
            "text/plain": [
              "[0.4260537624359131, 0.7997999787330627]"
            ]
          },
          "metadata": {},
          "execution_count": 10
        }
      ]
    }
  ]
}