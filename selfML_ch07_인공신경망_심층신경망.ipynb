{
  "nbformat": 4,
  "nbformat_minor": 0,
  "metadata": {
    "colab": {
      "name": "selfML_ch07_인공신경망_심층신경망.ipynb",
      "provenance": [],
      "collapsed_sections": [],
      "authorship_tag": "ABX9TyPX0f/lkIeaA6/8h6GPwW/9",
      "include_colab_link": true
    },
    "kernelspec": {
      "name": "python3",
      "display_name": "Python 3"
    },
    "language_info": {
      "name": "python"
    },
    "accelerator": "GPU"
  },
  "cells": [
    {
      "cell_type": "markdown",
      "metadata": {
        "id": "view-in-github",
        "colab_type": "text"
      },
      "source": [
        "<a href=\"https://colab.research.google.com/github/oksk1111/self_machinelearning/blob/main/selfML_ch07_%EC%9D%B8%EA%B3%B5%EC%8B%A0%EA%B2%BD%EB%A7%9D_%EC%8B%AC%EC%B8%B5%EC%8B%A0%EA%B2%BD%EB%A7%9D.ipynb\" target=\"_parent\"><img src=\"https://colab.research.google.com/assets/colab-badge.svg\" alt=\"Open In Colab\"/></a>"
      ]
    },
    {
      "cell_type": "code",
      "execution_count": null,
      "metadata": {
        "colab": {
          "base_uri": "https://localhost:8080/"
        },
        "id": "_eVkHsNrWFIY",
        "outputId": "37187303-64bc-4dd1-def2-8991538ad644"
      },
      "outputs": [
        {
          "output_type": "stream",
          "name": "stdout",
          "text": [
            "Downloading data from https://storage.googleapis.com/tensorflow/tf-keras-datasets/train-labels-idx1-ubyte.gz\n",
            "32768/29515 [=================================] - 0s 0us/step\n",
            "40960/29515 [=========================================] - 0s 0us/step\n",
            "Downloading data from https://storage.googleapis.com/tensorflow/tf-keras-datasets/train-images-idx3-ubyte.gz\n",
            "26427392/26421880 [==============================] - 0s 0us/step\n",
            "26435584/26421880 [==============================] - 0s 0us/step\n",
            "Downloading data from https://storage.googleapis.com/tensorflow/tf-keras-datasets/t10k-labels-idx1-ubyte.gz\n",
            "16384/5148 [===============================================================================================] - 0s 0us/step\n",
            "Downloading data from https://storage.googleapis.com/tensorflow/tf-keras-datasets/t10k-images-idx3-ubyte.gz\n",
            "4423680/4422102 [==============================] - 0s 0us/step\n",
            "4431872/4422102 [==============================] - 0s 0us/step\n"
          ]
        }
      ],
      "source": [
        "# 1. 데이터 준비\n",
        "#- 패션 MNIST\n",
        "#-- keras 프레임워크 내에 패션 MNIST 데이터 있음\n",
        "\n",
        "from tensorflow import keras\n",
        "(train_input, train_target), (test_input, test_target) = keras.datasets.fashion_mnist.load_data()"
      ]
    },
    {
      "cell_type": "code",
      "source": [
        "# 2. 데이터 확인\n",
        "\n",
        "# 데이터 크기 확인\n",
        "print(train_input.shape, train_target.shape)    # 28x28 이미지 6만개\n",
        "print(test_input.shape, test_target.shape)      # 28x28 이미지 1만개\n",
        "\n",
        "# 그림으로 input 확인\n",
        "import matplotlib.pyplot as plt\n",
        "fig, axs = plt.subplots(1, 10, figsize=(10, 10))    # subplots(rows, columns, figsize=(width, height))\n",
        "for i in range(10):     # train_input 데이터 10개까지를 출력해보자!\n",
        "  axs[i].imshow(train_input[i], cmap='gray_r')      # axs = subplots 의 sub 그래프. index로 구분한다. (axs = plot 처럼 imshow 가능; 자세한건 matplot lib 참고)\n",
        "  axs[i].axis('off')    # axis() 격자를 그릴지 말지 여부; 기본값은 'on'\n",
        "plt.show()\n",
        "\n",
        "# target 확인\n",
        "print([train_target[i] for i in range(10)])\n",
        "\n",
        "# fashion MNIST Target 의미\n",
        "# 0: 티셔츠\n",
        "# 1: 바지\n",
        "# 2: 스웨터\n",
        "# 3: 드레스\n",
        "# 4: 코트\n",
        "# 5: 샌달\n",
        "# 6: 셔츠\n",
        "# 7: 스니커즈\n",
        "# 8: 가방\n",
        "# 9: 앵클 부츠\n",
        "\n",
        "# 레이블당 샘플 개수 확인; 이미지가 아닌 target 데이터로 확인\n",
        "import numpy as np\n",
        "print(np.unique(train_target, return_counts=True))    # 각항목당 6000씩 10개 = 60000 샘플이 있음을 확인"
      ],
      "metadata": {
        "colab": {
          "base_uri": "https://localhost:8080/",
          "height": 150
        },
        "id": "SsN8jRgGW91c",
        "outputId": "044cff66-74ca-4574-82eb-deaccd3748d0"
      },
      "execution_count": null,
      "outputs": [
        {
          "output_type": "stream",
          "name": "stdout",
          "text": [
            "(60000, 28, 28) (60000,)\n",
            "(10000, 28, 28) (10000,)\n"
          ]
        },
        {
          "output_type": "display_data",
          "data": {
            "image/png": "[encoded data removed]",
            "text/plain": [
              "<Figure size 720x720 with 10 Axes>"
            ]
          },
          "metadata": {
            "needs_background": "light"
          }
        },
        {
          "output_type": "stream",
          "name": "stdout",
          "text": [
            "[9, 0, 0, 3, 0, 2, 7, 2, 5, 5]\n",
            "(array([0, 1, 2, 3, 4, 5, 6, 7, 8, 9], dtype=uint8), array([6000, 6000, 6000, 6000, 6000, 6000, 6000, 6000, 6000, 6000]))\n"
          ]
        }
      ]
    },
    {
      "cell_type": "code",
      "source": [
        "# 데이터가 60000개로 많아서 전체 데이터를 한꺼번에 사용하여 모델을 훈련하는 것보다, 샘플을 하나씩 꺼내서 모델을 훈련하는 방법이 더 효율적으로 보인다.\n",
        "#- 이런 상황에 잘 맞는 방법이 확률적 경사 하강법! - SGDClassifier  - ?partial_fit() ?\n",
        "#-- 로지스틱회귀는 데이터 정규화가 필요 - 특성마다 값의 범위가 많이 다르면 올바르게 손실 함수의 경사를 내려 올 수 없기 때문\n",
        "#--- 위 픽셀값은 0~255 인데 이를 255로 나눠 0~1의 데이터로 정규화 한다. - 이는 양수값으로 이루어진 이미지를 전처리 할 때 많이 이용\n",
        "\n",
        "# (ch04) SGDClassifier 는 1차원 입력(개별데이터기준)만 받을 수 있어서 reshape 해야 한다.\n",
        "#- 1차원 데이터가 n개 존재하는 2차원 입력을 받는 것이다!\n",
        "train_scaled = train_input / 255.0\n",
        "print(train_scaled[:2])   # 2차원 데이터가 6만개; 총입력이 3차원이 됨. \n",
        "train_scaled = train_scaled.reshape(-1, 28*28)    # (-1, ##*##) 2차원 이미지를 1차원으로 변환하는 일반적인 방법; 28*28 은 위 MNist 데이터의 이미지 1개가 28*28 픽셀이기 때문\n",
        "\n",
        "# 변환된 값 확인\n",
        "print(train_scaled.shape)\n",
        "print(train_scaled[:2])   # 1차원 데이터가 6만개; 총입력이 2차원이 됨."
      ],
      "metadata": {
        "colab": {
          "base_uri": "https://localhost:8080/"
        },
        "id": "rSzMHRAmZ-M0",
        "outputId": "99dd0732-67c4-49ed-e65e-950cfda36cdb"
      },
      "execution_count": null,
      "outputs": [
        {
          "output_type": "stream",
          "name": "stdout",
          "text": [
            "[[[0. 0. 0. ... 0. 0. 0.]\n",
            "  [0. 0. 0. ... 0. 0. 0.]\n",
            "  [0. 0. 0. ... 0. 0. 0.]\n",
            "  ...\n",
            "  [0. 0. 0. ... 0. 0. 0.]\n",
            "  [0. 0. 0. ... 0. 0. 0.]\n",
            "  [0. 0. 0. ... 0. 0. 0.]]\n",
            "\n",
            " [[0. 0. 0. ... 0. 0. 0.]\n",
            "  [0. 0. 0. ... 0. 0. 0.]\n",
            "  [0. 0. 0. ... 0. 0. 0.]\n",
            "  ...\n",
            "  [0. 0. 0. ... 0. 0. 0.]\n",
            "  [0. 0. 0. ... 0. 0. 0.]\n",
            "  [0. 0. 0. ... 0. 0. 0.]]]\n",
            "(60000, 784)\n",
            "[[0. 0. 0. ... 0. 0. 0.]\n",
            " [0. 0. 0. ... 0. 0. 0.]]\n"
          ]
        }
      ]
    },
    {
      "cell_type": "code",
      "source": [
        "# 3. 학습 + 평가\n",
        "from sklearn.model_selection import cross_validate\n",
        "from sklearn.linear_model import SGDClassifier\n",
        "\n",
        "sc = SGDClassifier(loss='log', max_iter=5, random_state=42)   #? loss='log'\n",
        "scores = cross_validate(sc, train_scaled, train_target, n_jobs=-1)    # 교차검증: 기본 5-Fold 로 전체데이터 5등분중 1개를 검증세트로 지정해 교체해가며 테스트를 수행. (모델, train_data, target_data, n_jobs=-1(=코어 모두 사용))\n",
        "print(np.mean(scores['test_score']))    # 5-Fold 교차검증의 score 평균\n",
        "\n",
        "#- 로지스틱 회귀같은 머신러닝으로 성능이 증대되지 않느다. 어떻게 성능 향상?\n",
        "#--> 딥러닝 라이브러리 이용 - 텐서플로우"
      ],
      "metadata": {
        "colab": {
          "base_uri": "https://localhost:8080/"
        },
        "id": "y_PVS3BEwMAD",
        "outputId": "7e0746e4-22a8-4785-f7f7-c19f186058fe"
      },
      "execution_count": null,
      "outputs": [
        {
          "output_type": "stream",
          "name": "stdout",
          "text": [
            "0.8195666666666668\n"
          ]
        }
      ]
    },
    {
      "cell_type": "markdown",
      "source": [
        "# 인공신경망 (Ariticial Neural Network:ANN)\n",
        "- 입력층 x, 출력층 z <br>\n",
        "- 출력의 각 단위는 뉴런(=유닛)\n",
        "***\n",
        "# 머신러닝\n",
        "#### 군집알고리즘\n",
        "#### 선형모델\n",
        "#### 앙상블\n",
        "#### 트리모델\n",
        "#### 딥러닝(인공신경망)\n",
        "- GPU를 이용해 인공신경망 훈련\n",
        "***\n",
        "## 텐서플로우, 케라스 (Tensorflow, Keras)\n",
        "- 딥러닝 알고리즘 중의 하나\n",
        "- 케라스 백엔드 라이브러리 = 텐스플로우\n"
      ],
      "metadata": {
        "id": "aqLWKE22KFst"
      }
    },
    {
      "cell_type": "code",
      "source": [
        "# 딥러닝 라이브러리 - 텐서플로우\n",
        "#- 딥러닝 라이브러리는 GPU를 사용하여 인공 신경망을 훈련한다.\n",
        "\n",
        "import tensorflow as tf\n",
        "from tensorflow import keras\n",
        "\n",
        "# 인공 신경망에서는 교차검증을 사용하지 않고 검증 세트를 별도로 덜어내어 사용한다.\n",
        "#- 이유1. 딥러닝 분야의 데이터셋은 충분히 크기 때문에 검증 점수가 안정적\n",
        "#- 이유2. 교차 검증을 수행하기에는 훈련시간이 너무 오래 걸림\n",
        "\n",
        "#1. 데이터 준비\n",
        "\n",
        "from sklearn.model_selection import train_test_split\n",
        "train_scaled, val_scaled, train_target, val_target = train_test_split(train_scaled, train_target, test_size=0.2, random_state=42)   # 20% 테스트 세트\n",
        "\n",
        "# 훈련 세트와 검증 세트의 크기 확인\n",
        "print(train_scaled.shape, train_target.shape)\n",
        "print(val_scaled.shape, val_target.shape)\n"
      ],
      "metadata": {
        "colab": {
          "base_uri": "https://localhost:8080/"
        },
        "id": "303W7D2s90UR",
        "outputId": "406b016f-2b3f-4600-89f8-75a3de4776a1"
      },
      "execution_count": null,
      "outputs": [
        {
          "output_type": "stream",
          "name": "stdout",
          "text": [
            "(38400, 784) (38400,)\n",
            "(9600, 784) (9600,)\n"
          ]
        }
      ]
    },
    {
      "cell_type": "code",
      "source": [
        "# train_scaled, train_target 으로 모델 생성 후 val_scaled, val_target 으로 훈련 모델 평가\n",
        "\n",
        "# 3. 학습 + 평가\n",
        "#- 딥러닝 학습을 위한 사전 작업인 Layer 만들기가 필요\n",
        "\n",
        "# 1) dense layer(fully connected layer) 만들기\n",
        "dense = keras.layers.Dense(10, activation='softmax', input_shape=(784,))    # Dense(뉴런개수, 뉴런의 출력에 적용할 함수, 입력의 크기); 신경망의 첫번째 층에만 input_shape 넣어주면 된다. (나머지는 Sequential 상에서 자동으로 입력)\n",
        "#- softmax 함수를 쓰는 이유 - 10개의 뉴런에서 출력되는 값을 확률로 바꾸기 위함. 2개 중 하나 선택이면 'sigmoid' 를 넣으면 된다.\n",
        "\n",
        "# 2) 위 layer 를 가지고 신경망 모델 만들기!\n",
        "model = keras.Sequential(dense)\n",
        "\n",
        "# 3) 훈련 이전에 설정: compile() - 손실 함수 지정(loss), 훈련과정에서 측정하고 싶은 측정값 지정(metrics)\n",
        "model.compile(loss='sparse_categorical_crossentropy', metrics='accuracy')\n",
        "#- 이진 분류: loss = 'binary_crossentropy'\n",
        "#- 다중 분류: loss = 'categorical_crossentropy' (타겟값이 원-핫 인코딩으로 되어 있어야 함)\n",
        "#- sparse_categorical_crossentropy - 원-핫 인코딩 없이 정수값으로 바로 엔트로피 손실 함수를 계산할 수 있음\n",
        "#- 타깃값이 원-핫 인코딩이면 loss='categorical_crossentropy' 를 쓰면 됨\n",
        "#- keras 는 모델이 훈련할 때 기본으로 에포크마다 손실 값을 출력해 준다.\n",
        "#-- 손실이 줄어드는 것을 보고 훈련이 잘되었다는 것을 알 수 있지만 정확도를 보이기 위해 metrics='accuracy' 를 지정\n",
        "\n",
        "# 훈련; 사이킷런의 fit()과 유사\n",
        "#- fit(입력, 타겟, 반복할 에포크 횟수)\n",
        "model.fit(train_scaled, train_target, epochs=5)"
      ],
      "metadata": {
        "colab": {
          "base_uri": "https://localhost:8080/"
        },
        "id": "QLjYLozcUAwa",
        "outputId": "f990ca60-a03d-4450-992f-c71fc8058862"
      },
      "execution_count": null,
      "outputs": [
        {
          "output_type": "stream",
          "name": "stdout",
          "text": [
            "Epoch 1/5\n",
            "1500/1500 [==============================] - 5s 2ms/step - loss: 0.6067 - accuracy: 0.7947\n",
            "Epoch 2/5\n",
            "1500/1500 [==============================] - 4s 3ms/step - loss: 0.4778 - accuracy: 0.8396\n",
            "Epoch 3/5\n",
            "1500/1500 [==============================] - 4s 3ms/step - loss: 0.4549 - accuracy: 0.8486\n",
            "Epoch 4/5\n",
            "1500/1500 [==============================] - 4s 2ms/step - loss: 0.4446 - accuracy: 0.8528\n",
            "Epoch 5/5\n",
            "1500/1500 [==============================] - 4s 2ms/step - loss: 0.4377 - accuracy: 0.8548\n"
          ]
        },
        {
          "output_type": "execute_result",
          "data": {
            "text/plain": [
              "<keras.callbacks.History at 0x7fd061a9aa50>"
            ]
          },
          "metadata": {},
          "execution_count": 7
        }
      ]
    },
    {
      "cell_type": "code",
      "source": [
        "# 5. 검증 - evaluate()\n",
        "model.evaluate(val_scaled, val_target)\n",
        "\n",
        "#- 검증세트의 점수는 훈련 세트 점수보다 조금 낮은 것이 일반적!!"
      ],
      "metadata": {
        "colab": {
          "base_uri": "https://localhost:8080/"
        },
        "id": "yaOVlCPeZgEO",
        "outputId": "e6cc0d51-7d32-4576-fa63-1e011c86cccb"
      },
      "execution_count": null,
      "outputs": [
        {
          "output_type": "stream",
          "name": "stdout",
          "text": [
            "375/375 [==============================] - 2s 4ms/step - loss: 0.4553 - accuracy: 0.8482\n"
          ]
        },
        {
          "output_type": "execute_result",
          "data": {
            "text/plain": [
              "[0.45525503158569336, 0.8482499718666077]"
            ]
          },
          "metadata": {},
          "execution_count": 8
        }
      ]
    },
    {
      "cell_type": "markdown",
      "source": [
        "# 심층신경망 \n",
        "- 레이어가 여러개인 신경망 (=딥러닝) <br>\n",
        "- 은닉층(hidden layer): 입력층과 출력층 사이에 있는 층 <br>\n",
        "- 모든 은닉층은 활성화 함수를 포함한다. (예: 소프트맥스) <br>\n",
        "- 출력층 활성화함수 종류는 제한적 <br>\n",
        "> 1. 이진분류일 경우 - 시그모이드 <br>\n",
        "> 2. 다중분류일 경우 - 소프트맥스 <br>\n",
        "- 은닉층 활성화 함수는 조금 더 많음 <br>\n",
        "> 3. ReLU <br>\n",
        "\n",
        "***\n",
        "분류 문제는 클래스에 대한 확률을 출력하기 위해 활성화 함수를 사용. <br>\n",
        "회귀의 출력은 임의의 어떤 숫자이므로 활성화 함수를 적용할 필요가 없다. <br>\n",
        "즉, 출력층의 선형 방정식의 계산을 그대로 출력한다. <br>\n",
        "이렇게 하려면 Dense 층의 activation 매개변수에 아무런 값을 지정하지 않는다."
      ],
      "metadata": {
        "id": "7Pefs-VJUqPb"
      }
    },
    {
      "cell_type": "code",
      "source": [
        "# 1. 데이터 준비 (위의것과 같은 패션 MNIST)\n",
        "from tensorflow import keras\n",
        "(train_input, train_target), (test_input, test_target) = keras.datasets.fashion_mnist.load_data()"
      ],
      "metadata": {
        "id": "aTjbNKfqVcRM"
      },
      "execution_count": null,
      "outputs": []
    },
    {
      "cell_type": "code",
      "source": [
        "# 1.1. 데이터 전처리\n",
        "\n",
        "# 28x28 데이터를 1차원으로 변형; 입력데이터를 학습을 위해 2진데이터로!\n",
        "from sklearn.model_selection import train_test_split\n",
        "train_scaled = train_input / 255.0\n",
        "train_scaled = train_scaled.reshape(-1, 28*28)\n",
        "train_scaled, val_scaled, train_target, val_target = train_test_split(train_scaled, train_target, test_size=0.2, random_state=42)   # 20% 테스트 데이터\n",
        "\n",
        "print(train_scaled[:2])"
      ],
      "metadata": {
        "colab": {
          "base_uri": "https://localhost:8080/"
        },
        "id": "mwqAngHTWPNQ",
        "outputId": "557088a4-4153-475f-f48b-ff8c3d01579b"
      },
      "execution_count": null,
      "outputs": [
        {
          "output_type": "stream",
          "name": "stdout",
          "text": [
            "[[0. 0. 0. ... 0. 0. 0.]\n",
            " [0. 0. 0. ... 0. 0. 0.]]\n"
          ]
        }
      ]
    },
    {
      "cell_type": "code",
      "source": [
        "# 2. 딥러닝 레이어 만들기 (학습 구성 만들기)\n",
        "\n",
        "# 만들 구성\n",
        "#- hidden layer 1(dense) - Sigmoid(활성함수)\n",
        "#- output layer(dense) - Softmax(활성함수)\n",
        "dense1 = keras.layers.Dense(100, activation='sigmoid', input_shape=(784,))    # Hidden layer 의 뉴런(여기선 100) 개수는 특별한 기준은 없지만 출력층보다는 많아야 한다. (그래도 경험상 어느정도해야지 하는게 있다고 한다.)\n",
        "dense2 = keras.layers.Dense(10, activation='softmax')   #? input_shape 없어도 되나봐?\n",
        "\n",
        "# 심층 심경망(DNN) 만들기\n",
        "model = keras.Sequential([dense1, dense2])    #* 주의: 출력층은 마지막에 둬야함\n",
        "\n",
        "# keras는 summary() 를 통해 층에 대한 정보를 얻을 수 있다.\n",
        "model.summary()\n",
        "#- layer1구성: 이름(Dense)    (샘플개수(주:미니배치하강법을 이용하기에 전체 샘플개수가 미정. 즉, 현재는None), 뉴런개수100)     특성개수(784)*뉴런개수(100)+절편(100)=78500\n",
        "#-- keras 의 기본 미니배치 크기=32 (fit() 함수의 batch_size 매개변수로 정의)\n",
        "#-- 배치차원(=샘플개수): 신경망 층에 입력되거나 출력되는 배열의 첫 번째 차원 (현재 예에선 None)"
      ],
      "metadata": {
        "colab": {
          "base_uri": "https://localhost:8080/"
        },
        "id": "U_473x5CWkRO",
        "outputId": "4f6c6115-0353-4f93-9979-0035a6c224c3"
      },
      "execution_count": null,
      "outputs": [
        {
          "output_type": "stream",
          "name": "stdout",
          "text": [
            "Model: \"sequential\"\n",
            "_________________________________________________________________\n",
            " Layer (type)                Output Shape              Param #   \n",
            "=================================================================\n",
            " dense (Dense)               (None, 100)               78500     \n",
            "                                                                 \n",
            " dense_1 (Dense)             (None, 10)                1010      \n",
            "                                                                 \n",
            "=================================================================\n",
            "Total params: 79,510\n",
            "Trainable params: 79,510\n",
            "Non-trainable params: 0\n",
            "_________________________________________________________________\n"
          ]
        }
      ]
    },
    {
      "cell_type": "code",
      "source": [
        "#** layer 를 추가하는 다른 방법 1 - 한번에 생성시에 넣기 **\n",
        "model = keras.Sequential([keras.layers.Dense(100, activation='sigmoid', input_shape=(784,), name='hidden'),   # 레이어의 이름도 줄 수 있다.\n",
        "                          keras.layers.Dense(10, activation='softmax', name='output')],\n",
        "                         name='패션 MNIST 모델')    # 모델의 이름도 줄 수 있다.\n",
        "model.summary()"
      ],
      "metadata": {
        "colab": {
          "base_uri": "https://localhost:8080/"
        },
        "id": "ApNQ7q_cK_Fa",
        "outputId": "5fc2a56e-7fb4-44f2-a4de-5b530d50c156"
      },
      "execution_count": null,
      "outputs": [
        {
          "output_type": "stream",
          "name": "stdout",
          "text": [
            "Model: \"패션 MNIST 모델\"\n",
            "_________________________________________________________________\n",
            " Layer (type)                Output Shape              Param #   \n",
            "=================================================================\n",
            " hidden (Dense)              (None, 100)               78500     \n",
            "                                                                 \n",
            " output (Dense)              (None, 10)                1010      \n",
            "                                                                 \n",
            "=================================================================\n",
            "Total params: 79,510\n",
            "Trainable params: 79,510\n",
            "Non-trainable params: 0\n",
            "_________________________________________________________________\n"
          ]
        }
      ]
    },
    {
      "cell_type": "code",
      "source": [
        "#### layer 를 추가하는 다른 방법 2 - 하나씩 추가하기\n",
        "model = keras.Sequential()\n",
        "model.add(keras.layers.Dense(100, activation='sigmoid', input_shape=(784,)))\n",
        "model.add(keras.layers.Dense(10, activation='softmax'))\n",
        "\n",
        "model.summary()"
      ],
      "metadata": {
        "colab": {
          "base_uri": "https://localhost:8080/"
        },
        "id": "TGS7KnMgLRfg",
        "outputId": "62307a52-cf37-4ff5-ceec-a2a3f598380a"
      },
      "execution_count": null,
      "outputs": [
        {
          "output_type": "stream",
          "name": "stdout",
          "text": [
            "Model: \"sequential_1\"\n",
            "_________________________________________________________________\n",
            " Layer (type)                Output Shape              Param #   \n",
            "=================================================================\n",
            " dense_2 (Dense)             (None, 100)               78500     \n",
            "                                                                 \n",
            " dense_3 (Dense)             (None, 10)                1010      \n",
            "                                                                 \n",
            "=================================================================\n",
            "Total params: 79,510\n",
            "Trainable params: 79,510\n",
            "Non-trainable params: 0\n",
            "_________________________________________________________________\n"
          ]
        }
      ]
    },
    {
      "cell_type": "code",
      "source": [
        "# 3. 훈련\n",
        "\n",
        "# 훈련 전 사전설정 - compile\n",
        "model.compile(loss='sparse_categorical_crossentropy', metrics='accuracy')\n",
        "model.fit(train_scaled, train_target, epochs=5)\n",
        "\n",
        "#- 정확도가 0.87 정도됨을 확인\n",
        "#-- 조금 더 높은 성능을 낼 수 없을까? - 활성화 함수로 ReLU 를 써보자. (이미지 처리에서 높은 성능!)"
      ],
      "metadata": {
        "colab": {
          "base_uri": "https://localhost:8080/"
        },
        "id": "cKWqFwTeLy35",
        "outputId": "8ddbd310-12b7-4c98-9079-8e47ee54fd80"
      },
      "execution_count": null,
      "outputs": [
        {
          "output_type": "stream",
          "name": "stdout",
          "text": [
            "Epoch 1/5\n",
            "1500/1500 [==============================] - 6s 3ms/step - loss: 0.5634 - accuracy: 0.8086\n",
            "Epoch 2/5\n",
            "1500/1500 [==============================] - 4s 3ms/step - loss: 0.4102 - accuracy: 0.8514\n",
            "Epoch 3/5\n",
            "1500/1500 [==============================] - 4s 3ms/step - loss: 0.3754 - accuracy: 0.8637\n",
            "Epoch 4/5\n",
            "1500/1500 [==============================] - 4s 3ms/step - loss: 0.3526 - accuracy: 0.8711\n",
            "Epoch 5/5\n",
            "1500/1500 [==============================] - 4s 3ms/step - loss: 0.3351 - accuracy: 0.8777\n"
          ]
        },
        {
          "output_type": "execute_result",
          "data": {
            "text/plain": [
              "<keras.callbacks.History at 0x7f8ce3846d90>"
            ]
          },
          "metadata": {},
          "execution_count": 10
        }
      ]
    },
    {
      "cell_type": "code",
      "source": [
        "# 이미지 분류 문제에서 높은 성능을 내는 활성화 함수 = ReLU 를 써보자!!\n",
        "\n",
        "# 유용한 함수 - Flatten : 배치 차원을 제외하고 나머지 입력차원을 모두 일렬로 펼치는 역할 -> 1차원으로 만들어줌\n",
        "\n",
        "model = keras.Sequential()\n",
        "model.add(keras.layers.Flatten(input_shape=(28, 28)))   # Flatten은 층처럼 입력층과 은닉층 사이에 추가하기 때문에 층이라 부른다. 다만, 층 개수 계산에선 뺀다. 즉 이 예에선 2개의 층이 있다. 가중치 계산에서도 제외 (Param=0 이된다.)\n",
        "#- 위 예에서 input_shape(784,)로 쓴걸로 만들어 주는 역할!\n",
        "model.add(keras.layers.Dense(100, activation='relu'))\n",
        "model.add(keras.layers.Dense(10, activation='softmax'))\n",
        "\n",
        "model.summary()"
      ],
      "metadata": {
        "colab": {
          "base_uri": "https://localhost:8080/"
        },
        "id": "LJTJnOMrL66l",
        "outputId": "63829ba7-cd1c-4dbf-ecd1-28f1292c6568"
      },
      "execution_count": null,
      "outputs": [
        {
          "output_type": "stream",
          "name": "stdout",
          "text": [
            "Model: \"sequential_2\"\n",
            "_________________________________________________________________\n",
            " Layer (type)                Output Shape              Param #   \n",
            "=================================================================\n",
            " flatten (Flatten)           (None, 784)               0         \n",
            "                                                                 \n",
            " dense_4 (Dense)             (None, 100)               78500     \n",
            "                                                                 \n",
            " dense_5 (Dense)             (None, 10)                1010      \n",
            "                                                                 \n",
            "=================================================================\n",
            "Total params: 79,510\n",
            "Trainable params: 79,510\n",
            "Non-trainable params: 0\n",
            "_________________________________________________________________\n"
          ]
        }
      ]
    },
    {
      "cell_type": "code",
      "source": [
        "# 1. 데이터 준비\n",
        "(train_input, train_target), (test_input, test_target) = keras.datasets.fashion_mnist.load_data()\n",
        "train_scaled = train_input / 255.0\n",
        "train_scaled, val_scaled, train_target, val_target = train_test_split(train_scaled, train_target, test_size=0.2, random_state=42)\n",
        "\n",
        "# 3. 훈련\n",
        "model.compile(loss='sparse_categorical_crossentropy', metrics='accuracy')\n",
        "model.fit(train_scaled, train_target, epochs=5)\n",
        "\n",
        "#- 정확도가 0.88 로 그렇게 개선되지 않았는데??\n",
        "#-- 그럼 에포크를 늘려보면 어떨까??"
      ],
      "metadata": {
        "colab": {
          "base_uri": "https://localhost:8080/"
        },
        "id": "tzSSB0CTMs9B",
        "outputId": "3cce9c4e-13cf-4a2c-f2bb-037ee5da2e45"
      },
      "execution_count": null,
      "outputs": [
        {
          "output_type": "stream",
          "name": "stdout",
          "text": [
            "Epoch 1/5\n",
            "1500/1500 [==============================] - 5s 3ms/step - loss: 0.5352 - accuracy: 0.8129\n",
            "Epoch 2/5\n",
            "1500/1500 [==============================] - 4s 3ms/step - loss: 0.3940 - accuracy: 0.8581\n",
            "Epoch 3/5\n",
            "1500/1500 [==============================] - 4s 3ms/step - loss: 0.3564 - accuracy: 0.8721\n",
            "Epoch 4/5\n",
            "1500/1500 [==============================] - 4s 3ms/step - loss: 0.3354 - accuracy: 0.8814\n",
            "Epoch 5/5\n",
            "1500/1500 [==============================] - 4s 3ms/step - loss: 0.3180 - accuracy: 0.8868\n"
          ]
        },
        {
          "output_type": "execute_result",
          "data": {
            "text/plain": [
              "<keras.callbacks.History at 0x7f8c67b92910>"
            ]
          },
          "metadata": {},
          "execution_count": 12
        }
      ]
    },
    {
      "cell_type": "code",
      "source": [
        "# 모델 검증\n",
        "model.evaluate(val_scaled, val_target)"
      ],
      "metadata": {
        "colab": {
          "base_uri": "https://localhost:8080/"
        },
        "id": "ZsBc-1_fOCee",
        "outputId": "ea3a13e4-faff-4e30-ef14-45329a026b84"
      },
      "execution_count": null,
      "outputs": [
        {
          "output_type": "stream",
          "name": "stdout",
          "text": [
            "375/375 [==============================] - 1s 2ms/step - loss: 0.3773 - accuracy: 0.8700\n"
          ]
        },
        {
          "output_type": "execute_result",
          "data": {
            "text/plain": [
              "[0.37733834981918335, 0.8700000047683716]"
            ]
          },
          "metadata": {},
          "execution_count": 13
        }
      ]
    },
    {
      "cell_type": "markdown",
      "source": [
        "## 옵티마이저 (Optimizer)\n",
        "- compile() 메소드는 케라스의 기본 경사 하강법 알고리즘은 RMSprop 을 사용 <br>\n",
        "- 옵티마이저 = 케라스의 다양한 종류의 경사 하강법 알고리즘 <br>\n",
        "- SGD (확률적 경사하강법): 미니배치 하강법 적용 <br>\n",
        "> momentum: SGD 클래스의 매개변수. 그레디언트 가속도 처럼 모멘텀 최적화 수행. 0.9 이상의 값 지정 <br>\n",
        "> nesterov: SGD 클래스의 배개변수, 기본값=False, True 일때 사용하며 모멘텀 최적화를 2번 반복하여 구현. 대부분의 경우 기본 확률적 경사하강법보다 더 나은 성능 <br>\n",
        "- 적응적 학습률(adaptive learning rate): 모델이 최적점에 가까이 갈수록 학습률을 낮춤. 안정적으로 최적점에 수렴할 가능성이 높다. learning_rate 기본값=0.001 <br>\n",
        "> Adagrad: compile() 메소드의 optimizer='adagrad' 로 선언 <br>\n",
        "> RMSprop: compile() 메소드의 optimizer='rmsprop' 로 선언 <br>\n",
        "- Adam: 모멘텀 최적화 + RMSprop"
      ],
      "metadata": {
        "id": "UpIDm-h5Rr3-"
      }
    },
    {
      "cell_type": "code",
      "source": [
        "#** 옵티마이저 **\n",
        "#- 경사하강법 알고리즘 선택 가능 - optimizer 옵션\n",
        "\n",
        "model.compile(optimizer='sgd', loss='sparse_categorical_crossentropy', metrics='accuracy')\n",
        "\n",
        "# 아래 코드는 위 코드의 동일한 동작\n",
        "#sgd = keras.optimizers.SGD()\n",
        "#model.compile(optimizer=sgd, loss='sparse_categorical_crossentropy', metrics='accuracy')"
      ],
      "metadata": {
        "id": "fUyezo_yRt2s"
      },
      "execution_count": null,
      "outputs": []
    },
    {
      "cell_type": "code",
      "source": [
        "# adam 옵티마이저 이용해서 층 만들기\n",
        "model = keras.Sequential()\n",
        "model.add(keras.layers.Flatten(input_shape=(28, 28)))\n",
        "model.add(keras.layers.Dense(100, activation='relu'))\n",
        "model.add(keras.layers.Dense(10, activation='softmax'))\n",
        "\n",
        "#model = keras.Sequential()\n",
        "#model.add(keras.layers.Dense(100, activation='relu', input_shape=(784,)))\n",
        "#model.add(keras.layers.Dense(10, activation='softmax'))"
      ],
      "metadata": {
        "id": "d4s2mUiEVZro"
      },
      "execution_count": null,
      "outputs": []
    },
    {
      "cell_type": "code",
      "source": [
        "# 3. 훈련\n",
        "model.compile(optimizer='adam', loss='sparse_categorical_crossentropy', metrics='accuracy')\n",
        "model.fit(train_scaled, train_target, epochs=5)\n",
        "\n",
        "#- 정확도 0.88 로 그렇게 개선되지 않았는데??"
      ],
      "metadata": {
        "colab": {
          "base_uri": "https://localhost:8080/"
        },
        "id": "BoEOIDsYVcta",
        "outputId": "ca2cc672-0781-477a-9a26-cd42e1febb7b"
      },
      "execution_count": null,
      "outputs": [
        {
          "output_type": "stream",
          "name": "stdout",
          "text": [
            "Epoch 1/5\n",
            "1500/1500 [==============================] - 4s 3ms/step - loss: 0.5226 - accuracy: 0.8187\n",
            "Epoch 2/5\n",
            "1500/1500 [==============================] - 4s 3ms/step - loss: 0.3941 - accuracy: 0.8586\n",
            "Epoch 3/5\n",
            "1500/1500 [==============================] - 4s 3ms/step - loss: 0.3538 - accuracy: 0.8714\n",
            "Epoch 4/5\n",
            "1500/1500 [==============================] - 4s 3ms/step - loss: 0.3274 - accuracy: 0.8799\n",
            "Epoch 5/5\n",
            "1500/1500 [==============================] - 4s 3ms/step - loss: 0.3074 - accuracy: 0.8872\n"
          ]
        },
        {
          "output_type": "execute_result",
          "data": {
            "text/plain": [
              "<keras.callbacks.History at 0x7f8c67aa6310>"
            ]
          },
          "metadata": {},
          "execution_count": 16
        }
      ]
    },
    {
      "cell_type": "markdown",
      "source": [
        "## 딥러닝 훈련 그래프 그리기\n",
        "- keras.fit() 은 훈련 후 history 객체를 리턴한다. <br>\n",
        "- history 객체에 loss, accuracy 값이 존재한다. <br>"
      ],
      "metadata": {
        "id": "x-8JiQ_CkmCy"
      }
    },
    {
      "cell_type": "code",
      "source": [
        "# 1. 데이터 준비\n",
        "from tensorflow import keras\n",
        "from sklearn.model_selection import train_test_split\n",
        "(train_input, train_target), (test_input, test_target) = keras.datasets.fashion_mnist.load_data()\n",
        "train_scaled = train_input / 255.0    # 0~1 정규화\n",
        "train_scaled, val_scaled, train_target, val_target = train_test_split(train_scaled, train_target, test_size=0.2, random_state=42)"
      ],
      "metadata": {
        "colab": {
          "base_uri": "https://localhost:8080/"
        },
        "id": "YXpVYmS1knVD",
        "outputId": "7694d131-4c3a-4f53-c171-d52df5e52cc1"
      },
      "execution_count": 1,
      "outputs": [
        {
          "output_type": "stream",
          "name": "stdout",
          "text": [
            "Downloading data from https://storage.googleapis.com/tensorflow/tf-keras-datasets/train-labels-idx1-ubyte.gz\n",
            "32768/29515 [=================================] - 0s 0us/step\n",
            "40960/29515 [=========================================] - 0s 0us/step\n",
            "Downloading data from https://storage.googleapis.com/tensorflow/tf-keras-datasets/train-images-idx3-ubyte.gz\n",
            "26427392/26421880 [==============================] - 0s 0us/step\n",
            "26435584/26421880 [==============================] - 0s 0us/step\n",
            "Downloading data from https://storage.googleapis.com/tensorflow/tf-keras-datasets/t10k-labels-idx1-ubyte.gz\n",
            "16384/5148 [===============================================================================================] - 0s 0us/step\n",
            "Downloading data from https://storage.googleapis.com/tensorflow/tf-keras-datasets/t10k-images-idx3-ubyte.gz\n",
            "4423680/4422102 [==============================] - 0s 0us/step\n",
            "4431872/4422102 [==============================] - 0s 0us/step\n"
          ]
        }
      ]
    },
    {
      "cell_type": "code",
      "source": [
        "# 모델 만들기 (함수로)\n",
        "def model_fn(a_layer=None):\n",
        "  model = keras.Sequential()\n",
        "  model.add(keras.layers.Flatten(input_shape=(28, 28))) \n",
        "  model.add(keras.layers.Dense(100, activation='relu'))\n",
        "  if a_layer:\n",
        "    model.add(a_layer)\n",
        "  model.add(keras.layers.Dense(10, activation='softmax'))\n",
        "  return model"
      ],
      "metadata": {
        "id": "aZq3x3zlkp8y"
      },
      "execution_count": 2,
      "outputs": []
    },
    {
      "cell_type": "code",
      "source": [
        "# 단일 히든 layer 의 모델 확인\n",
        "model = model_fn()\n",
        "model.summary()"
      ],
      "metadata": {
        "colab": {
          "base_uri": "https://localhost:8080/"
        },
        "id": "TH3TMPKikuCL",
        "outputId": "e964109a-f2a0-4497-8590-a16631f63b4f"
      },
      "execution_count": 3,
      "outputs": [
        {
          "output_type": "stream",
          "name": "stdout",
          "text": [
            "Model: \"sequential\"\n",
            "_________________________________________________________________\n",
            " Layer (type)                Output Shape              Param #   \n",
            "=================================================================\n",
            " flatten (Flatten)           (None, 784)               0         \n",
            "                                                                 \n",
            " dense (Dense)               (None, 100)               78500     \n",
            "                                                                 \n",
            " dense_1 (Dense)             (None, 10)                1010      \n",
            "                                                                 \n",
            "=================================================================\n",
            "Total params: 79,510\n",
            "Trainable params: 79,510\n",
            "Non-trainable params: 0\n",
            "_________________________________________________________________\n"
          ]
        }
      ]
    },
    {
      "cell_type": "code",
      "source": [
        "# history 변수 확인\n",
        "model.compile(loss='sparse_categorical_crossentropy', metrics='accuracy')\n",
        "#history = model.fit(train_scaled, train_target, epochs=5, verbose=0)      # verbose = 훈련 과정 출력 조절. 0일 경우 출력하지 않음. 기본값은 1. 2일경우 진행 막대 안보임.\n",
        "history = model.fit(train_scaled, train_target, epochs=5)\n",
        "\n",
        "print(history.history.keys())\n",
        "\n",
        "#- 케라스는 기본적으로 에포크마다 손실을 계산한다!"
      ],
      "metadata": {
        "colab": {
          "base_uri": "https://localhost:8080/"
        },
        "id": "rSOH4ycJkw2K",
        "outputId": "98bd9823-a573-4a2e-8ff6-2edb38613c2d"
      },
      "execution_count": 4,
      "outputs": [
        {
          "output_type": "stream",
          "name": "stdout",
          "text": [
            "Epoch 1/5\n",
            "1500/1500 [==============================] - 6s 3ms/step - loss: 0.5287 - accuracy: 0.8133\n",
            "Epoch 2/5\n",
            "1500/1500 [==============================] - 4s 3ms/step - loss: 0.3937 - accuracy: 0.8591\n",
            "Epoch 3/5\n",
            "1500/1500 [==============================] - 4s 3ms/step - loss: 0.3557 - accuracy: 0.8729\n",
            "Epoch 4/5\n",
            "1500/1500 [==============================] - 4s 3ms/step - loss: 0.3335 - accuracy: 0.8806\n",
            "Epoch 5/5\n",
            "1500/1500 [==============================] - 4s 3ms/step - loss: 0.3171 - accuracy: 0.8877\n",
            "dict_keys(['loss', 'accuracy'])\n"
          ]
        }
      ]
    },
    {
      "cell_type": "code",
      "source": [
        "# history 그래프 확인\n",
        "import matplotlib.pyplot as plt\n",
        "plt.plot(history.history['loss'])\n",
        "plt.xlabel('epoch')\n",
        "plt.ylabel('loss')\n",
        "plt.show()\n",
        "\n",
        "plt.plot(history.history['accuracy'])\n",
        "plt.xlabel('epoch')\n",
        "plt.ylabel('accuracy')\n",
        "plt.show()\n",
        "\n",
        "#- 에포크가 진행될때마다 loss 는 줄어들고, accuracy 는 늘어남을 확인"
      ],
      "metadata": {
        "colab": {
          "base_uri": "https://localhost:8080/",
          "height": 542
        },
        "id": "mXVtIGtAk4-x",
        "outputId": "f9efef57-9e50-4c70-96d7-8010d307e0d0"
      },
      "execution_count": 5,
      "outputs": [
        {
          "output_type": "display_data",
          "data": {
            "image/png": "[encoded data removed]",
            "text/plain": [
              "<Figure size 432x288 with 1 Axes>"
            ]
          },
          "metadata": {
            "needs_background": "light"
          }
        },
        {
          "output_type": "display_data",
          "data": {
            "image/png": "[encoded data removed]",
            "text/plain": [
              "<Figure size 432x288 with 1 Axes>"
            ]
          },
          "metadata": {
            "needs_background": "light"
          }
        }
      ]
    },
    {
      "cell_type": "code",
      "source": [
        "# 에포크 늘려서 한번 더 확인\n",
        "model = model_fn()\n",
        "model.compile(loss='sparse_categorical_crossentropy', metrics='accuracy')\n",
        "history = model.fit(train_scaled, train_target, epochs=20, verbose=0)\n",
        "\n",
        "# 결과 그래프 확인 - 손실 그래프만\n",
        "plt.plot(history.history['loss'])\n",
        "plt.xlabel('epoch')\n",
        "plt.ylabel('loss')\n",
        "plt.show()\n",
        "\n",
        "#- loss  가 더 감소함을 육안으로 확인함.\n",
        "#- 에포크가 늘어난다고 마냥 좋은것은 아니다. 과대적합이 발생할 수 있다.\n",
        "#-- 과대/과소 적합을 확인하려면 훈련세트/검증세트 모두 그려보아 확인해 보아야 한다."
      ],
      "metadata": {
        "colab": {
          "base_uri": "https://localhost:8080/",
          "height": 279
        },
        "id": "vqKE0VGhmAq7",
        "outputId": "f4f5f66c-501c-4f17-9772-b1c16d0f2829"
      },
      "execution_count": null,
      "outputs": [
        {
          "output_type": "display_data",
          "data": {
            "image/png": "[encoded data removed]",
            "text/plain": [
              "<Figure size 432x288 with 1 Axes>"
            ]
          },
          "metadata": {
            "needs_background": "light"
          }
        }
      ]
    },
    {
      "cell_type": "code",
      "source": [
        "# keras,fit() 메소드에 검증 데이터를 전달하여 검증결과도 함께 받을 수 있다.\n",
        "model = model_fn()\n",
        "model.compile(loss='sparse_categorical_crossentropy', metrics='accuracy')\n",
        "history = model.fit(train_scaled, train_target, epochs=20, verbose=0, validation_data=(val_scaled, val_target))     # 검증데이터는 validation_data=(검증features, 검증타겟) 형태로 값을 준다.\n",
        "\n",
        "# 결과 항목 확인\n",
        "print(history.history.keys())   # train 데이터에 대한 loss, accuracy + 검증 데이터에 대한 val_loss, val_accuracy 가 추가됨을 확인!\n",
        "\n",
        "# 결과 그래프 확인\n",
        "plt.plot(history.history['loss'])   # train-set 에 대한 loss\n",
        "plt.plot(history.history['val_loss'])   # valid-set 에 대한 loss\n",
        "plt.xlabel('epoch')\n",
        "plt.ylabel('loss')\n",
        "plt.legend('train', 'val')\n",
        "plt.show()\n",
        "\n",
        "#- epoch=5 이후 과대적합 발생\n",
        "#-- 과대적합을 피할 수 있는 방법은? 일단 다른 Optimizer 를 써볼까?"
      ],
      "metadata": {
        "colab": {
          "base_uri": "https://localhost:8080/",
          "height": 514
        },
        "id": "QQ3pDO0wnwQu",
        "outputId": "36f095b2-e37b-4113-f985-37d1676bc7c6"
      },
      "execution_count": 6,
      "outputs": [
        {
          "output_type": "stream",
          "name": "stdout",
          "text": [
            "dict_keys(['loss', 'accuracy', 'val_loss', 'val_accuracy'])\n"
          ]
        },
        {
          "output_type": "stream",
          "name": "stderr",
          "text": [
            "/usr/local/lib/python3.7/dist-packages/ipykernel_launcher.py:14: UserWarning: Legend does not support 't' instances.\n",
            "A proxy artist may be used instead.\n",
            "See: http://matplotlib.org/users/legend_guide.html#creating-artists-specifically-for-adding-to-the-legend-aka-proxy-artists\n",
            "  \n",
            "/usr/local/lib/python3.7/dist-packages/ipykernel_launcher.py:14: UserWarning: Legend does not support 'r' instances.\n",
            "A proxy artist may be used instead.\n",
            "See: http://matplotlib.org/users/legend_guide.html#creating-artists-specifically-for-adding-to-the-legend-aka-proxy-artists\n",
            "  \n",
            "/usr/local/lib/python3.7/dist-packages/ipykernel_launcher.py:14: UserWarning: Legend does not support 'a' instances.\n",
            "A proxy artist may be used instead.\n",
            "See: http://matplotlib.org/users/legend_guide.html#creating-artists-specifically-for-adding-to-the-legend-aka-proxy-artists\n",
            "  \n"
          ]
        },
        {
          "output_type": "display_data",
          "data": {
            "image/png": "[encoded data removed]",
            "text/plain": [
              "<Figure size 432x288 with 1 Axes>"
            ]
          },
          "metadata": {
            "needs_background": "light"
          }
        }
      ]
    },
    {
      "cell_type": "code",
      "source": [
        "# 기본옵티마이저인 RMSprop 는 잘 동작하나 이를 대체할 만한건 Adam 이다. 한번 변경해서 테스트해보자.\n",
        "\n",
        "model = model_fn()\n",
        "model.compile(optimizer='adam', loss='sparse_categorical_crossentropy', metrics='accuracy')   # optimizer 변경\n",
        "history = model.fit(train_scaled, train_target, epochs=20, verbose=0, validation_data=(val_scaled, val_target))\n",
        "\n",
        "plt.plot(history.history['loss'])\n",
        "plt.plot(history.history['val_loss'])\n",
        "plt.xlabel('epoch')\n",
        "plt.ylabel('loss')\n",
        "plt.legend(['train', 'val'])\n",
        "plt.show()\n",
        "\n",
        "#- 'adam' 옵티마이저를 사용시 쬐끔 더 나은 성능을 보임을 확인.\n",
        "#-- 만족스럽지 못한데, 더 개선할 수 있는 방법은? - 드롭아웃!"
      ],
      "metadata": {
        "colab": {
          "base_uri": "https://localhost:8080/",
          "height": 279
        },
        "id": "JbbYhxKCoo8N",
        "outputId": "1883c32a-04d2-4695-cfa8-60ab4b386200"
      },
      "execution_count": null,
      "outputs": [
        {
          "output_type": "display_data",
          "data": {
            "image/png": "[encoded data removed]",
            "text/plain": [
              "<Figure size 432x288 with 1 Axes>"
            ]
          },
          "metadata": {
            "needs_background": "light"
          }
        }
      ]
    },
    {
      "cell_type": "markdown",
      "source": [
        "## 드롭아웃 (Dropout)\n",
        "- 학습시 항상 모든것을 학습하는 것이 아닌 규제, 제한을 적용하는 방법 <br>\n",
        "- 층에 있는 일부 뉴런의 출력을 랜덤하게 제한 후 학습하여 과대적합을 피하는 방식 <br>\n",
        "- 앙상블과 비슷한 효과 - 앙상블은 과대적합을 막는 머신러닝 알고리즘 기법이다.(ch05) <br>\n",
        "- ⚠ 드롭아웃은 학습할때만 활용하고, 평가나 예측을 할때는 빼야 한다!! <br>\n",
        "- keras 에서는 평가할때 자동으로 드롭아웃을 쓰지 않는다. (즉, fit(validation_data=()) 에 넣은 검증데이터는 드롭아웃 제외) <br>"
      ],
      "metadata": {
        "id": "0UwMcAKTqrUd"
      }
    },
    {
      "cell_type": "code",
      "source": [
        "# 모델 준비\n",
        "model = model_fn(keras.layers.Dropout(0.3))   # 30% dropout 층 추가; 층의 항목 계산에 들어가진 않음 (Flatten 같은것)\n",
        "model.summary()\n",
        "\n",
        "# 그래프 확인\n",
        "model.compile(optimizer='adam', loss='sparse_categorical_crossentropy', metrics='accuracy')\n",
        "history = model.fit(train_scaled, train_target, epochs=20, verbose=0, validation_data=(val_scaled, val_target))\n",
        "\n",
        "plt.plot(history.history['loss'])\n",
        "plt.plot(history.history['val_loss'])\n",
        "plt.xlabel('epoch')\n",
        "plt.ylabel('loss')\n",
        "plt.legend(['train', 'val'])\n",
        "plt.show()\n",
        "\n",
        "#- 과대적합이 줄었지만 epochs=20 으로는 여전히 과대적합. 한 10정도로 줄이면?"
      ],
      "metadata": {
        "colab": {
          "base_uri": "https://localhost:8080/",
          "height": 587
        },
        "id": "oIGbxUV1qfIm",
        "outputId": "054c6ccd-2464-41b7-a8c7-78ee82ed2376"
      },
      "execution_count": 7,
      "outputs": [
        {
          "output_type": "stream",
          "name": "stdout",
          "text": [
            "Model: \"sequential_2\"\n",
            "_________________________________________________________________\n",
            " Layer (type)                Output Shape              Param #   \n",
            "=================================================================\n",
            " flatten_2 (Flatten)         (None, 784)               0         \n",
            "                                                                 \n",
            " dense_4 (Dense)             (None, 100)               78500     \n",
            "                                                                 \n",
            " dropout (Dropout)           (None, 100)               0         \n",
            "                                                                 \n",
            " dense_5 (Dense)             (None, 10)                1010      \n",
            "                                                                 \n",
            "=================================================================\n",
            "Total params: 79,510\n",
            "Trainable params: 79,510\n",
            "Non-trainable params: 0\n",
            "_________________________________________________________________\n"
          ]
        },
        {
          "output_type": "display_data",
          "data": {
            "image/png": "[encoded data removed]",
            "text/plain": [
              "<Figure size 432x288 with 1 Axes>"
            ]
          },
          "metadata": {
            "needs_background": "light"
          }
        }
      ]
    },
    {
      "cell_type": "markdown",
      "source": [
        "## 모델 저장과 복원\n",
        "- 딥러닝으로 학습한 모델을 파일로 저장할 수 있다. <br>\n",
        "- .save_weights(): 모델의 학습된 가중치를 저장 <br>\n",
        "  - 텐서플로우 체크포인트 포맷으로 파일을 저장 <br>\n",
        "  - 확장자가 ',h5' 로 할 경우 파일 포맷은 HDF5 <br>\n",
        "    - HDF5 는 numpy 로 읽기/쓰기 용이한 대용량 파일 포맷 <br>\n",
        "    - https://docs.h5py.org/en/stable/\n",
        "```\n",
        "HDF5 lets you store huge amounts of numerical data, and easily manipulate that data from NumPy. For example, you can slice into multi-terabyte datasets stored on disk, as if they were real NumPy arrays. Thousands of datasets can be stored in a single file, categorized and tagged however you want.\n",
        "```\n",
        "- .save(): 모델 구조와 모델 파라미터를 함께 저장 <br>\n",
        "  - 텐서플로우 SavedModel 포맷으로 저장 <br>\n",
        "  - 확장자가 ',h5' 로 할 경우 파일 포맷은 HDF5 <br>"
      ],
      "metadata": {
        "id": "1k5mtWWajjKd"
      }
    },
    {
      "cell_type": "code",
      "source": [
        "# epochs=10 으로 재학습\n",
        "model = model_fn(keras.layers.Dropout(0.3))\n",
        "model.compile(optimizer='adam', loss='sparse_categorical_crossentropy', metrics='accuracy')\n",
        "history = model.fit(train_scaled, train_target, epochs=10, verbose=0, validation_data=(val_scaled, val_target))\n",
        "\n",
        "# 훈련된 모델파라미터 저장 - save_weights()\n",
        "model.save_weights('model-weights.h5')\n",
        "\n",
        "# 훈련된 모델파라미터 + 모델구조 함께 저장 - save()\n",
        "model.save('model-whole.h5')"
      ],
      "metadata": {
        "id": "nevyLim1sO9V"
      },
      "execution_count": 8,
      "outputs": []
    },
    {
      "cell_type": "code",
      "source": [
        "# 위 생성된 파일 확인\n",
        "!ls -al *.h5"
      ],
      "metadata": {
        "colab": {
          "base_uri": "https://localhost:8080/"
        },
        "id": "8Mo1-zFsoe9h",
        "outputId": "84b67063-482e-49cc-9f48-ada505d51dbf"
      },
      "execution_count": 9,
      "outputs": [
        {
          "output_type": "stream",
          "name": "stdout",
          "text": [
            "-rw-r--r-- 1 root root 333448 Jan 12 14:12 model-weights.h5\n",
            "-rw-r--r-- 1 root root 982664 Jan 12 14:12 model-whole.h5\n"
          ]
        }
      ]
    },
    {
      "cell_type": "code",
      "source": [
        "# 확인1 - 훈련하지 않은 새로운 모델에 model-weights.h5 를 적용\n",
        "model = model_fn(keras.layers.Dropout(0.3))\n",
        "model.load_weights('model-weights.h5')    # load_weights(); model 구조가 같아야지만 성립된다!!\n",
        "\n",
        "# 검증 정확도 확인\n",
        "#- 케라스의 predict() 는 사이킷런과 달리 샘플마다 10개의 클래스에 대한 확률을 반환 (해당 예에서는 특성이 10개.)\n",
        "#-- 검증 세트 개수가 12000 개이기 때문에 predict()는 (12000, 10) 크기의 배열을 반환함.\n",
        "#--- 우리가 원하는 타겟값을 얻기 위해선 10개 확률 중 가장 큰 값을 따로 골라내야 한다.\n",
        "import numpy as np\n",
        "val_labels = np.argmax(model.predict(val_scaled), axis=-1)    # argmax()는 항목에서 가장 큰 값의 인덱스를 출력; axis=-1 배열의 마지막 차원을 따라 최댓값을 고름. 검증 세트는 2차원 배열이기 때문에 마지막 차원은 1이 됨.\n",
        "print(val_labels[:5])\n",
        "print(np.mean(val_labels == val_target))    # 예측한 val_labels 인덱스와 실제 타겟의 인덱스를 비교했을때, 값이 같으면 정확도 1, 값이 틀리면 정확도 0이다. 모든 값에서 정확도를 평균하면 정확도가 된다!!\n",
        "\n",
        "# 확인2 - model-whole.h5 에서 새로운 모델을 만들어 바로 사용; model 구조 몰라도 됨\n",
        "model = keras.models.load_model('model-whole.h5')\n",
        "model.evaluate(val_scaled, val_target)\n",
        "\n",
        "#- 위의 학습 과정은 20번의 에포크로 모델을 훈련하여 검증한후 값을 조정하여 다시 학습하였다.\n",
        "#-- 모델을 두번씩 훈련하지 않고 한번에 끝낼 수 있는 방법은? -> keras callback 이용!!"
      ],
      "metadata": {
        "colab": {
          "base_uri": "https://localhost:8080/"
        },
        "id": "-rIqcYyDomQu",
        "outputId": "3174d910-81c0-4d94-e01f-d74de3f9f4f3"
      },
      "execution_count": 13,
      "outputs": [
        {
          "output_type": "stream",
          "name": "stdout",
          "text": [
            "[8 8 7 4 8]\n",
            "0.8756666666666667\n",
            "375/375 [==============================] - 1s 2ms/step - loss: 0.3364 - accuracy: 0.8757\n"
          ]
        },
        {
          "output_type": "execute_result",
          "data": {
            "text/plain": [
              "[0.3363651633262634, 0.8756666779518127]"
            ]
          },
          "metadata": {},
          "execution_count": 13
        }
      ]
    },
    {
      "cell_type": "markdown",
      "source": [
        "## 콜백 (Callback)\n",
        "- 훈련 과정 중간에 어떤 작업을 수행할 수 있게 하는 객체 <br>\n",
        "- fit() 메소드의 callbacks 매개변수에 리스트로 전달하여 사용 <br>\n",
        "- ModelCheckPoint() 콜백을 이용해 기본적으로 최상의 검증 점수를 만드는 모델을 저장하도록 함! <br>\n",
        "\n",
        "## 조기종료 (Early stopping)\n",
        "- 검증 점수가 상승하기 시작하면 그 이후에는 과대적합이 더 커지기 때문에 훈련을 계속할 필요가 없다. <br>\n",
        "- keras에서 조기 종료를 위한 EarlyStopping 콜백을 제공 <br>\n",
        "- 해당 콜백의 patience 매개변수는 검증 점수가 향상되지 않더라도 참을 에포크 횟수 지정\n",
        "  - 예: patience=2 이면 2번 연속 검증 점수가 향상되지 않으면 훈련을 중지\n",
        "- restore_best_weights 매개변수를 True 로 지정하면 가장 낮은 검증 손실을 낸 모델 파라미터로 되돌림 <br>"
      ],
      "metadata": {
        "id": "EnQKNte3shFO"
      }
    },
    {
      "cell_type": "code",
      "source": [
        "# Callback\n",
        "\n",
        "model = model_fn(keras.layers.Dropout(0.3))\n",
        "model.compile(optimizer='adam', loss='sparse_categorical_crossentropy', metrics='accuracy')\n",
        "checkpoint_cb = keras.callbacks.ModelCheckpoint('best-model.h5')    # 저장될 파일 이름을 'best-model.h5' 로 지정하여 콜백 적용\n",
        "model.fit(train_scaled, train_target, epochs=20, verbose=0, validation_data=(val_scaled, val_target), callbacks=[checkpoint_cb])    # 모델이 훈련된 후 best-model.h5 에 최상의 검증 점수를 낸 모델이 저장\n",
        "\n",
        "# 위 모델을 load_model() 함수로 다시 읽어서 예측 수행\n",
        "model = keras.models.load_model('best-model.h5')\n",
        "model.evaluate(val_scaled, val_target)"
      ],
      "metadata": {
        "colab": {
          "base_uri": "https://localhost:8080/"
        },
        "id": "fM-R-fuGo-54",
        "outputId": "7866cd39-595c-4360-9332-a724cb56e3fe"
      },
      "execution_count": 14,
      "outputs": [
        {
          "output_type": "stream",
          "name": "stdout",
          "text": [
            "375/375 [==============================] - 1s 2ms/step - loss: 0.3229 - accuracy: 0.8866\n"
          ]
        },
        {
          "output_type": "execute_result",
          "data": {
            "text/plain": [
              "[0.3229254484176636, 0.8865833282470703]"
            ]
          },
          "metadata": {},
          "execution_count": 14
        }
      ]
    },
    {
      "cell_type": "code",
      "source": [
        "# 위 모델은 여전히 20번의 epochs 를 모두 수행한다. \n",
        "#-> 해결책: Early stopping\n",
        "\n",
        "# ModelCheckPoint + EarlyStopping\n",
        "model = model_fn(keras.layers.Dropout(0.3))\n",
        "model.compile(optimizer='adam', loss='sparse_categorical_crossentropy', metrics='accuracy')\n",
        "checkpoint_cb = keras.callbacks.ModelCheckpoint('best-model.h5')\n",
        "early_stopping_cb = keras.callbacks.EarlyStopping(patience=2, restore_best_weights=True)\n",
        "history = model.fit(train_scaled, train_target, epochs=20, verbose=0, validation_data=(val_scaled, val_target), callbacks=[checkpoint_cb, early_stopping_cb])\n",
        "\n",
        "print(early_stopping_cb.stopped_epoch)  # 마지막으로 중단된 epoch 출력; patience=2 이므로 최상위 모델은 11이 될 것이다."
      ],
      "metadata": {
        "colab": {
          "base_uri": "https://localhost:8080/"
        },
        "id": "gU2NsFaVttAM",
        "outputId": "aa39ed5b-e52f-4479-8081-29b9f39d83d1"
      },
      "execution_count": 15,
      "outputs": [
        {
          "output_type": "stream",
          "name": "stdout",
          "text": [
            "11\n"
          ]
        }
      ]
    },
    {
      "cell_type": "code",
      "source": [
        "# 위 결과 그래프로 확인\n",
        "plt.plot(history.history['loss'])\n",
        "plt.plot(history.history['val_loss'])\n",
        "plt.xlabel('epoch')\n",
        "plt.ylabel('loss')\n",
        "plt.legend(['train', 'val'])\n",
        "plt.show()\n",
        "\n",
        "# 모델 검증\n",
        "model.evaluate(val_scaled, val_target)"
      ],
      "metadata": {
        "colab": {
          "base_uri": "https://localhost:8080/",
          "height": 315
        },
        "id": "aVA0vgZZu5uP",
        "outputId": "1c49620f-69d3-4234-9d57-7388c5c1e2bb"
      },
      "execution_count": 16,
      "outputs": [
        {
          "output_type": "display_data",
          "data": {
            "image/png": "[encoded data removed]",
            "text/plain": [
              "<Figure size 432x288 with 1 Axes>"
            ]
          },
          "metadata": {
            "needs_background": "light"
          }
        },
        {
          "output_type": "stream",
          "name": "stdout",
          "text": [
            "375/375 [==============================] - 1s 2ms/step - loss: 0.3238 - accuracy: 0.8779\n"
          ]
        },
        {
          "output_type": "execute_result",
          "data": {
            "text/plain": [
              "[0.32378628849983215, 0.877916693687439]"
            ]
          },
          "metadata": {},
          "execution_count": 16
        }
      ]
    }
  ]
}